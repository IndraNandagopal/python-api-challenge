{
 "cells": [
  {
   "cell_type": "markdown",
   "metadata": {},
   "source": [
    "# WeatherPy\n",
    "----\n"
   ]
  },
  {
   "cell_type": "markdown",
   "metadata": {},
   "source": [
    "### H3 WeatherPy Analysis\n",
    "\n",
    "   * Both scatter and linear regression plots show that there is a strong correlation between Latitude and temperature. As we  approach latitude zero, the temperature increases. The max. temperatures for more cities shown between Latitude 20 and 40 is due to summer season in Northern hemisphere at this time of the year.\n",
    "   * There is no relation between latitude and Humidity. But the humidity is higher (above 60) for more cities across both the hemispheres as these plots are taken in July.\n",
    "   * Also there is no correlation between latitude & Cloudiness and latitude & Wind Speed. Wind Speed is generally between 0 and 15 mph regardless of latitude​.   "
   ]
  },
  {
   "cell_type": "code",
   "execution_count": 5,
   "metadata": {},
   "outputs": [],
   "source": [
    "#pip install citipy"
   ]
  },
  {
   "cell_type": "code",
   "execution_count": 6,
   "metadata": {
    "scrolled": true
   },
   "outputs": [],
   "source": [
    "# Dependencies and Setup\n",
    "import matplotlib.pyplot as plt\n",
    "import pandas as pd\n",
    "import numpy as np\n",
    "import requests\n",
    "import time\n",
    "import datetime\n",
    "import scipy.stats as st\n",
    "from scipy.stats import linregress\n",
    "from pprint import pprint\n",
    "\n",
    "# Import API key\n",
    "from api_keys import weather_api_key\n",
    "\n",
    "# Incorporated citipy to determine city based on latitude and longitude\n",
    "from citipy import citipy\n",
    "\n",
    "# Output File (CSV)\n",
    "output_data_file = \"output_data/cities.csv\"\n",
    "\n",
    "# Range of latitudes and longitudes\n",
    "lat_range = (-90, 90)\n",
    "lng_range = (-180, 180)"
   ]
  },
  {
   "cell_type": "markdown",
   "metadata": {},
   "source": [
    "## Generate Cities List"
   ]
  },
  {
   "cell_type": "code",
   "execution_count": 7,
   "metadata": {},
   "outputs": [
    {
     "name": "stdout",
     "output_type": "stream",
     "text": [
      "636\n"
     ]
    }
   ],
   "source": [
    "# List for holding lat_lngs and cities\n",
    "lat_lngs = []\n",
    "cities = []\n",
    "\n",
    "# Create a set of random lat and lng combinations\n",
    "lats = np.random.uniform(lat_range[0], lat_range[1], size=1500)\n",
    "lngs = np.random.uniform(lng_range[0], lng_range[1], size=1500)\n",
    "lat_lngs = zip(lats, lngs)\n",
    "\n",
    "# Identify nearest city for each lat, lng combination\n",
    "for lat_lng in lat_lngs:\n",
    "    city = citipy.nearest_city(lat_lng[0], lat_lng[1]).city_name\n",
    "    \n",
    "    # If the city is unique, then add it to a our cities list\n",
    "    if city not in cities:\n",
    "        cities.append(city)\n",
    "\n",
    "# Print the city count to confirm sufficient count\n",
    "Tot_No_of_cities = len(cities)\n",
    "print(Tot_No_of_cities)\n"
   ]
  },
  {
   "cell_type": "markdown",
   "metadata": {},
   "source": [
    "### Perform API Calls\n",
    "* Perform a weather check on each city using a series of successive API calls.\n",
    "* Include a print log of each city as it'sbeing processed (with the city number and city name).\n"
   ]
  },
  {
   "cell_type": "code",
   "execution_count": 8,
   "metadata": {
    "scrolled": true
   },
   "outputs": [
    {
     "name": "stdout",
     "output_type": "stream",
     "text": [
      "Beginning Data Retrieval\n",
      "-----------------------------\n",
      "'Processing Record of 0 of Set 1 | hovd'\n",
      "'Processing Record of 1 of Set 1 | aklavik'\n",
      "'Processing Record of 2 of Set 1 | hermanus'\n",
      "'Processing Record of 3 of Set 1 | georgetown'\n",
      "'Processing Record of 4 of Set 1 | provideniya'\n",
      "'Processing Record of 5 of Set 1 | new norfolk'\n",
      "'Processing Record of 6 of Set 1 | tasiilaq'\n",
      "'Processing Record of 7 of Set 1 | lorengau'\n",
      "'Processing Record of 8 of Set 1 | meyungs'\n",
      "'City not found. Skipping... '\n",
      "'Processing Record of 9 of Set 1 | korla'\n",
      "'Processing Record of 10 of Set 1 | tiksi'\n",
      "'Processing Record of 11 of Set 1 | uglegorsk'\n",
      "'Processing Record of 12 of Set 1 | luderitz'\n",
      "'Processing Record of 13 of Set 1 | mar del plata'\n",
      "'Processing Record of 14 of Set 1 | isangel'\n",
      "'Processing Record of 15 of Set 1 | barentsburg'\n",
      "'City not found. Skipping... '\n",
      "'Processing Record of 16 of Set 1 | jamestown'\n",
      "'Processing Record of 17 of Set 1 | qaanaaq'\n",
      "'Processing Record of 18 of Set 1 | vaini'\n",
      "'Processing Record of 19 of Set 1 | ulladulla'\n",
      "'Processing Record of 20 of Set 1 | bluff'\n",
      "'Processing Record of 21 of Set 1 | saskylakh'\n",
      "'Processing Record of 22 of Set 1 | quang ngai'\n",
      "'Processing Record of 23 of Set 1 | carnarvon'\n",
      "'Processing Record of 24 of Set 1 | horadiz'\n",
      "'Processing Record of 25 of Set 1 | rikitea'\n",
      "'Processing Record of 26 of Set 1 | punta arenas'\n",
      "'Processing Record of 27 of Set 1 | simpang'\n",
      "'Processing Record of 28 of Set 1 | chimbote'\n",
      "'Processing Record of 29 of Set 1 | saint-philippe'\n",
      "'Processing Record of 30 of Set 1 | kloulklubed'\n",
      "'Processing Record of 31 of Set 1 | souillac'\n",
      "'Processing Record of 32 of Set 1 | ribeira brava'\n",
      "'Processing Record of 33 of Set 1 | castro'\n",
      "'Processing Record of 34 of Set 1 | deputatskiy'\n",
      "'Processing Record of 35 of Set 1 | taolanaro'\n",
      "'City not found. Skipping... '\n",
      "'Processing Record of 36 of Set 1 | torbay'\n",
      "'Processing Record of 37 of Set 1 | ushuaia'\n",
      "'Processing Record of 38 of Set 1 | te anau'\n",
      "'Processing Record of 39 of Set 1 | hithadhoo'\n",
      "'Processing Record of 40 of Set 1 | vardo'\n",
      "'Processing Record of 41 of Set 1 | mataura'\n",
      "'Processing Record of 42 of Set 1 | husavik'\n",
      "'Processing Record of 43 of Set 1 | avarua'\n",
      "'Processing Record of 44 of Set 1 | prykolotne'\n",
      "'Processing Record of 45 of Set 1 | dingle'\n",
      "'Processing Record of 46 of Set 1 | samarai'\n",
      "'Processing Record of 47 of Set 1 | salalah'\n",
      "'Processing Record of 48 of Set 1 | parsabad'\n",
      "'Processing Record of 49 of Set 1 | srandakan'\n",
      "'Processing Record of 0 of Set 2 | miraflores'\n",
      "'Processing Record of 1 of Set 2 | lavrentiya'\n",
      "'Processing Record of 2 of Set 2 | sentyabrskiy'\n",
      "'City not found. Skipping... '\n",
      "'Processing Record of 3 of Set 2 | narsaq'\n",
      "'Processing Record of 4 of Set 2 | kolondieba'\n",
      "'Processing Record of 5 of Set 2 | cumaribo'\n",
      "'City not found. Skipping... '\n",
      "'Processing Record of 6 of Set 2 | airai'\n",
      "'Processing Record of 7 of Set 2 | butaritari'\n",
      "'Processing Record of 8 of Set 2 | norrtalje'\n",
      "'Processing Record of 9 of Set 2 | srednekolymsk'\n",
      "'Processing Record of 10 of Set 2 | baijiantan'\n",
      "'Processing Record of 11 of Set 2 | ilorin'\n",
      "'Processing Record of 12 of Set 2 | thinadhoo'\n",
      "'Processing Record of 13 of Set 2 | cockburn harbour'\n",
      "'City not found. Skipping... '\n",
      "'Processing Record of 14 of Set 2 | fomboni'\n",
      "'Processing Record of 15 of Set 2 | fare'\n",
      "'Processing Record of 16 of Set 2 | morgan city'\n",
      "'Processing Record of 17 of Set 2 | byron bay'\n",
      "'Processing Record of 18 of Set 2 | palmer'\n",
      "'Processing Record of 19 of Set 2 | mahebourg'\n",
      "'Processing Record of 20 of Set 2 | quatre cocos'\n",
      "'Processing Record of 21 of Set 2 | mayya'\n",
      "'Processing Record of 22 of Set 2 | the valley'\n",
      "'Processing Record of 23 of Set 2 | dwarka'\n",
      "'Processing Record of 24 of Set 2 | alofi'\n",
      "'Processing Record of 25 of Set 2 | hualmay'\n",
      "'Processing Record of 26 of Set 2 | ixtapa'\n",
      "'Processing Record of 27 of Set 2 | muravlenko'\n",
      "'Processing Record of 28 of Set 2 | kodiak'\n",
      "'Processing Record of 29 of Set 2 | dikson'\n",
      "'Processing Record of 30 of Set 2 | eureka'\n",
      "'Processing Record of 31 of Set 2 | mecca'\n",
      "'Processing Record of 32 of Set 2 | nikolskoye'\n",
      "'Processing Record of 33 of Set 2 | san cristobal'\n",
      "'Processing Record of 34 of Set 2 | nanortalik'\n",
      "'Processing Record of 35 of Set 2 | tumannyy'\n",
      "'City not found. Skipping... '\n",
      "'Processing Record of 36 of Set 2 | la palma'\n",
      "'Processing Record of 37 of Set 2 | busselton'\n",
      "'Processing Record of 38 of Set 2 | saint george'\n",
      "'Processing Record of 39 of Set 2 | lagoa'\n",
      "'Processing Record of 40 of Set 2 | hilo'\n",
      "'Processing Record of 41 of Set 2 | iqaluit'\n",
      "'Processing Record of 42 of Set 2 | maldonado'\n",
      "'Processing Record of 43 of Set 2 | voisiku'\n",
      "'City not found. Skipping... '\n",
      "'Processing Record of 44 of Set 2 | pevek'\n",
      "'Processing Record of 45 of Set 2 | norman wells'\n",
      "'Processing Record of 46 of Set 2 | dunedin'\n",
      "'Processing Record of 47 of Set 2 | rungata'\n",
      "'City not found. Skipping... '\n",
      "'Processing Record of 48 of Set 2 | bredasdorp'\n",
      "'Processing Record of 49 of Set 2 | petropavlovsk-kamchatskiy'\n",
      "'Processing Record of 0 of Set 3 | tuyom'\n",
      "'Processing Record of 1 of Set 3 | katobu'\n",
      "'Processing Record of 2 of Set 3 | dzhusaly'\n",
      "'City not found. Skipping... '\n",
      "'Processing Record of 3 of Set 3 | kapaa'\n",
      "'Processing Record of 4 of Set 3 | mulanje'\n",
      "'Processing Record of 5 of Set 3 | coihaique'\n",
      "'Processing Record of 6 of Set 3 | la quinta'\n",
      "'Processing Record of 7 of Set 3 | arraial do cabo'\n",
      "'Processing Record of 8 of Set 3 | smithers'\n",
      "'Processing Record of 9 of Set 3 | sataua'\n",
      "'City not found. Skipping... '\n",
      "'Processing Record of 10 of Set 3 | tres de maio'\n",
      "'Processing Record of 11 of Set 3 | kaeo'\n",
      "'Processing Record of 12 of Set 3 | marcona'\n",
      "'City not found. Skipping... '\n",
      "'Processing Record of 13 of Set 3 | cherskiy'\n",
      "'Processing Record of 14 of Set 3 | ponta do sol'\n",
      "'Processing Record of 15 of Set 3 | morant bay'\n",
      "'Processing Record of 16 of Set 3 | kashin'\n",
      "'Processing Record of 17 of Set 3 | altamira'\n",
      "'Processing Record of 18 of Set 3 | albany'\n",
      "'Processing Record of 19 of Set 3 | taltal'\n",
      "'Processing Record of 20 of Set 3 | lasa'\n",
      "'Processing Record of 21 of Set 3 | toftir'\n",
      "'City not found. Skipping... '\n",
      "'Processing Record of 22 of Set 3 | klaksvik'\n",
      "'Processing Record of 23 of Set 3 | cape town'\n",
      "'Processing Record of 24 of Set 3 | mangan'\n",
      "'Processing Record of 25 of Set 3 | barrow'\n",
      "'Processing Record of 26 of Set 3 | rio grande'\n",
      "'Processing Record of 27 of Set 3 | pavlovskiy posad'\n",
      "'Processing Record of 28 of Set 3 | grindavik'\n",
      "'Processing Record of 29 of Set 3 | enshi'\n",
      "'Processing Record of 30 of Set 3 | muriwai beach'\n",
      "'Processing Record of 31 of Set 3 | carutapera'\n",
      "'Processing Record of 32 of Set 3 | zemio'\n",
      "'Processing Record of 33 of Set 3 | rawson'\n",
      "'Processing Record of 34 of Set 3 | kimbe'\n",
      "'Processing Record of 35 of Set 3 | atuona'\n",
      "'Processing Record of 36 of Set 3 | dubbo'\n",
      "'Processing Record of 37 of Set 3 | greensburg'\n",
      "'Processing Record of 38 of Set 3 | podyuga'\n",
      "'Processing Record of 39 of Set 3 | batagay-alyta'\n",
      "'Processing Record of 40 of Set 3 | yellowknife'\n",
      "'Processing Record of 41 of Set 3 | beringovskiy'\n",
      "'Processing Record of 42 of Set 3 | clyde river'\n",
      "'Processing Record of 43 of Set 3 | victoria'\n",
      "'Processing Record of 44 of Set 3 | noumea'\n",
      "'Processing Record of 45 of Set 3 | friedrichsdorf'\n",
      "'Processing Record of 46 of Set 3 | charcas'\n",
      "'Processing Record of 47 of Set 3 | ust-kulom'\n",
      "'Processing Record of 48 of Set 3 | asau'\n",
      "'Processing Record of 49 of Set 3 | coquimbo'\n",
      "'Processing Record of 0 of Set 4 | puerto ayora'\n",
      "'Processing Record of 1 of Set 4 | aligudarz'\n",
      "'Processing Record of 2 of Set 4 | mocuba'\n",
      "'Processing Record of 3 of Set 4 | illoqqortoormiut'\n",
      "'City not found. Skipping... '\n",
      "'Processing Record of 4 of Set 4 | luancheng'\n",
      "'Processing Record of 5 of Set 4 | leningradskiy'\n",
      "'Processing Record of 6 of Set 4 | esperance'\n",
      "'Processing Record of 7 of Set 4 | sokolka'\n",
      "'Processing Record of 8 of Set 4 | upernavik'\n",
      "'Processing Record of 9 of Set 4 | praia da vitoria'\n",
      "'Processing Record of 10 of Set 4 | santa cruz'\n",
      "'Processing Record of 11 of Set 4 | beno-yurt'\n",
      "'City not found. Skipping... '\n",
      "'Processing Record of 12 of Set 4 | half moon bay'\n",
      "'Processing Record of 13 of Set 4 | vanino'\n",
      "'Processing Record of 14 of Set 4 | shakiso'\n",
      "'Processing Record of 15 of Set 4 | hobart'\n",
      "'Processing Record of 16 of Set 4 | cockburn town'\n"
     ]
    },
    {
     "name": "stdout",
     "output_type": "stream",
     "text": [
      "'Processing Record of 17 of Set 4 | znamenka'\n",
      "'Processing Record of 18 of Set 4 | sao filipe'\n",
      "'Processing Record of 19 of Set 4 | port elizabeth'\n",
      "'Processing Record of 20 of Set 4 | sault sainte marie'\n",
      "'Processing Record of 21 of Set 4 | vindeby'\n",
      "'Processing Record of 22 of Set 4 | broome'\n",
      "'Processing Record of 23 of Set 4 | namwala'\n",
      "'Processing Record of 24 of Set 4 | cassilandia'\n",
      "'Processing Record of 25 of Set 4 | ribeira grande'\n",
      "'Processing Record of 26 of Set 4 | elliot lake'\n",
      "'Processing Record of 27 of Set 4 | vostok'\n",
      "'Processing Record of 28 of Set 4 | bambous virieux'\n",
      "'Processing Record of 29 of Set 4 | saint anthony'\n",
      "'Processing Record of 30 of Set 4 | oriximina'\n",
      "'Processing Record of 31 of Set 4 | east london'\n",
      "'Processing Record of 32 of Set 4 | bonavista'\n",
      "'Processing Record of 33 of Set 4 | catamarca'\n",
      "'Processing Record of 34 of Set 4 | coahuayana'\n",
      "'Processing Record of 35 of Set 4 | tevaitoa'\n",
      "'Processing Record of 36 of Set 4 | hagere hiywet'\n",
      "'Processing Record of 37 of Set 4 | evensk'\n",
      "'Processing Record of 38 of Set 4 | tsihombe'\n",
      "'City not found. Skipping... '\n",
      "'Processing Record of 39 of Set 4 | codrington'\n",
      "'Processing Record of 40 of Set 4 | el mahalla el kubra'\n",
      "'City not found. Skipping... '\n",
      "'Processing Record of 41 of Set 4 | chokurdakh'\n",
      "'Processing Record of 42 of Set 4 | berlevag'\n",
      "'Processing Record of 43 of Set 4 | marsh harbour'\n",
      "'Processing Record of 44 of Set 4 | huarmey'\n",
      "'Processing Record of 45 of Set 4 | tripoli'\n",
      "'Processing Record of 46 of Set 4 | shingu'\n",
      "'Processing Record of 47 of Set 4 | vao'\n",
      "'Processing Record of 48 of Set 4 | villarrica'\n",
      "'Processing Record of 49 of Set 4 | tura'\n",
      "'Processing Record of 0 of Set 5 | pochutla'\n",
      "'Processing Record of 1 of Set 5 | san quintin'\n",
      "'Processing Record of 2 of Set 5 | novyy urengoy'\n",
      "'Processing Record of 3 of Set 5 | kahului'\n",
      "'Processing Record of 4 of Set 5 | ulenje'\n",
      "'Processing Record of 5 of Set 5 | ewa beach'\n",
      "'Processing Record of 6 of Set 5 | mattru'\n",
      "'Processing Record of 7 of Set 5 | dicabisagan'\n",
      "'Processing Record of 8 of Set 5 | yermakovskoye'\n",
      "'Processing Record of 9 of Set 5 | straelen'\n",
      "'Processing Record of 10 of Set 5 | muros'\n",
      "'Processing Record of 11 of Set 5 | faanui'\n",
      "'Processing Record of 12 of Set 5 | myaundzha'\n",
      "'Processing Record of 13 of Set 5 | verkhoyansk'\n",
      "'Processing Record of 14 of Set 5 | lata'\n",
      "'Processing Record of 15 of Set 5 | ancud'\n",
      "'Processing Record of 16 of Set 5 | marawi'\n",
      "'Processing Record of 17 of Set 5 | bayan'\n",
      "'Processing Record of 18 of Set 5 | tavda'\n",
      "'Processing Record of 19 of Set 5 | nhulunbuy'\n",
      "'Processing Record of 20 of Set 5 | minas novas'\n",
      "'Processing Record of 21 of Set 5 | benxi'\n",
      "'Processing Record of 22 of Set 5 | guerrero negro'\n",
      "'Processing Record of 23 of Set 5 | roebourne'\n",
      "'Processing Record of 24 of Set 5 | sugod'\n",
      "'Processing Record of 25 of Set 5 | prince rupert'\n",
      "'Processing Record of 26 of Set 5 | manokwari'\n",
      "'Processing Record of 27 of Set 5 | lebu'\n",
      "'Processing Record of 28 of Set 5 | hamilton'\n",
      "'Processing Record of 29 of Set 5 | nueve de julio'\n",
      "'Processing Record of 30 of Set 5 | port hardy'\n",
      "'Processing Record of 31 of Set 5 | ridgecrest'\n",
      "'Processing Record of 32 of Set 5 | betanzos'\n",
      "'Processing Record of 33 of Set 5 | lolua'\n",
      "'City not found. Skipping... '\n",
      "'Processing Record of 34 of Set 5 | ilulissat'\n",
      "'Processing Record of 35 of Set 5 | namatanai'\n",
      "'Processing Record of 36 of Set 5 | pemangkat'\n",
      "'Processing Record of 37 of Set 5 | gorom-gorom'\n",
      "'Processing Record of 38 of Set 5 | jinchang'\n",
      "'Processing Record of 39 of Set 5 | samusu'\n",
      "'City not found. Skipping... '\n",
      "'Processing Record of 40 of Set 5 | katangli'\n",
      "'Processing Record of 41 of Set 5 | hami'\n",
      "'Processing Record of 42 of Set 5 | nizhneyansk'\n",
      "'City not found. Skipping... '\n",
      "'Processing Record of 43 of Set 5 | fenyi'\n",
      "'Processing Record of 44 of Set 5 | khatanga'\n",
      "'Processing Record of 45 of Set 5 | cabo san lucas'\n",
      "'Processing Record of 46 of Set 5 | ust-tsilma'\n",
      "'Processing Record of 47 of Set 5 | tuktoyaktuk'\n",
      "'Processing Record of 48 of Set 5 | awjilah'\n",
      "'Processing Record of 49 of Set 5 | salym'\n",
      "'Processing Record of 0 of Set 6 | conceicao do araguaia'\n",
      "'Processing Record of 1 of Set 6 | egvekinot'\n",
      "'Processing Record of 2 of Set 6 | sigiriya'\n",
      "'Processing Record of 3 of Set 6 | adrar'\n",
      "'Processing Record of 4 of Set 6 | ilinskiy'\n",
      "'Processing Record of 5 of Set 6 | malpe'\n",
      "'Processing Record of 6 of Set 6 | yuzhno-yeniseyskiy'\n",
      "'City not found. Skipping... '\n",
      "'Processing Record of 7 of Set 6 | jiwani'\n",
      "'Processing Record of 8 of Set 6 | birjand'\n",
      "'Processing Record of 9 of Set 6 | namibe'\n",
      "'Processing Record of 10 of Set 6 | itaituba'\n",
      "'Processing Record of 11 of Set 6 | pisco'\n",
      "'Processing Record of 12 of Set 6 | manadhoo'\n",
      "'Processing Record of 13 of Set 6 | george'\n",
      "'Processing Record of 14 of Set 6 | malumfashi'\n",
      "'Processing Record of 15 of Set 6 | hambantota'\n",
      "'Processing Record of 16 of Set 6 | san andres'\n",
      "'Processing Record of 17 of Set 6 | matagami'\n",
      "'Processing Record of 18 of Set 6 | vanimo'\n",
      "'Processing Record of 19 of Set 6 | tignere'\n",
      "'Processing Record of 20 of Set 6 | sadiqabad'\n",
      "'Processing Record of 21 of Set 6 | svetlaya'\n",
      "'Processing Record of 22 of Set 6 | coulihaut'\n",
      "'City not found. Skipping... '\n",
      "'Processing Record of 23 of Set 6 | goiania'\n",
      "'Processing Record of 24 of Set 6 | antalaha'\n",
      "'Processing Record of 25 of Set 6 | taoudenni'\n",
      "'Processing Record of 26 of Set 6 | okha'\n",
      "'Processing Record of 27 of Set 6 | det udom'\n",
      "'Processing Record of 28 of Set 6 | scottsbluff'\n",
      "'Processing Record of 29 of Set 6 | belushya guba'\n",
      "'City not found. Skipping... '\n",
      "'Processing Record of 30 of Set 6 | baraya'\n",
      "'Processing Record of 31 of Set 6 | turukhansk'\n",
      "'Processing Record of 32 of Set 6 | duz'\n",
      "'City not found. Skipping... '\n",
      "'Processing Record of 33 of Set 6 | zavyalovo'\n",
      "'Processing Record of 34 of Set 6 | gamba'\n",
      "'Processing Record of 35 of Set 6 | severobaykalsk'\n",
      "'Processing Record of 36 of Set 6 | temaraia'\n",
      "'City not found. Skipping... '\n",
      "'Processing Record of 37 of Set 6 | fort saint john'\n",
      "'City not found. Skipping... '\n",
      "'Processing Record of 38 of Set 6 | bethel'\n",
      "'Processing Record of 39 of Set 6 | yar-sale'\n",
      "'Processing Record of 40 of Set 6 | acopiara'\n",
      "'Processing Record of 41 of Set 6 | devils lake'\n",
      "'Processing Record of 42 of Set 6 | muscat'\n",
      "'Processing Record of 43 of Set 6 | gambela'\n",
      "'Processing Record of 44 of Set 6 | osorno'\n",
      "'Processing Record of 45 of Set 6 | northam'\n",
      "'Processing Record of 46 of Set 6 | palembang'\n",
      "'Processing Record of 47 of Set 6 | mount isa'\n",
      "'Processing Record of 48 of Set 6 | talnakh'\n",
      "'Processing Record of 49 of Set 6 | inirida'\n",
      "'Processing Record of 0 of Set 7 | yuksekova'\n",
      "'Processing Record of 1 of Set 7 | arroyo'\n",
      "'Processing Record of 2 of Set 7 | jaysingpur'\n",
      "'Processing Record of 3 of Set 7 | los llanos de aridane'\n",
      "'Processing Record of 4 of Set 7 | chuy'\n",
      "'Processing Record of 5 of Set 7 | vila do maio'\n",
      "'Processing Record of 6 of Set 7 | tamboril'\n",
      "'Processing Record of 7 of Set 7 | agua verde'\n",
      "'Processing Record of 8 of Set 7 | nome'\n",
      "'Processing Record of 9 of Set 7 | gorin'\n",
      "'Processing Record of 10 of Set 7 | orlik'\n",
      "'Processing Record of 11 of Set 7 | verkhnetulomskiy'\n",
      "'Processing Record of 12 of Set 7 | inongo'\n",
      "'Processing Record of 13 of Set 7 | pala'\n",
      "'Processing Record of 14 of Set 7 | brigham city'\n",
      "'Processing Record of 15 of Set 7 | ito'\n",
      "'Processing Record of 16 of Set 7 | laibin'\n",
      "'Processing Record of 17 of Set 7 | tarudant'\n",
      "'City not found. Skipping... '\n",
      "'Processing Record of 18 of Set 7 | atchison'\n",
      "'Processing Record of 19 of Set 7 | bokspits'\n",
      "'City not found. Skipping... '\n",
      "'Processing Record of 20 of Set 7 | liku'\n",
      "'Processing Record of 21 of Set 7 | longyearbyen'\n",
      "'Processing Record of 22 of Set 7 | saint-augustin'\n",
      "'Processing Record of 23 of Set 7 | bon accord'\n",
      "'Processing Record of 24 of Set 7 | geraldton'\n",
      "'Processing Record of 25 of Set 7 | thompson'\n",
      "'Processing Record of 26 of Set 7 | bandarbeyla'\n",
      "'Processing Record of 27 of Set 7 | san patricio'\n",
      "'Processing Record of 28 of Set 7 | palmerston'\n",
      "'Processing Record of 29 of Set 7 | mednogorskiy'\n",
      "'Processing Record of 30 of Set 7 | athabasca'\n",
      "'Processing Record of 31 of Set 7 | pirovskoye'\n",
      "'Processing Record of 32 of Set 7 | gobabis'\n",
      "'Processing Record of 33 of Set 7 | muroto'\n",
      "'Processing Record of 34 of Set 7 | attawapiskat'\n",
      "'City not found. Skipping... '\n"
     ]
    },
    {
     "name": "stdout",
     "output_type": "stream",
     "text": [
      "'Processing Record of 35 of Set 7 | matara'\n",
      "'Processing Record of 36 of Set 7 | vila velha'\n",
      "'Processing Record of 37 of Set 7 | piotrkow trybunalski'\n",
      "'Processing Record of 38 of Set 7 | nuevo progreso'\n",
      "'Processing Record of 39 of Set 7 | pierre'\n",
      "'Processing Record of 40 of Set 7 | celestun'\n",
      "'Processing Record of 41 of Set 7 | hasaki'\n",
      "'Processing Record of 42 of Set 7 | yerbogachen'\n",
      "'Processing Record of 43 of Set 7 | paamiut'\n",
      "'Processing Record of 44 of Set 7 | kruisfontein'\n",
      "'Processing Record of 45 of Set 7 | amderma'\n",
      "'City not found. Skipping... '\n",
      "'Processing Record of 46 of Set 7 | kaitangata'\n",
      "'Processing Record of 47 of Set 7 | fengzhen'\n",
      "'Processing Record of 48 of Set 7 | kontagora'\n",
      "'Processing Record of 49 of Set 7 | verkhnyaya inta'\n",
      "'Processing Record of 0 of Set 8 | kazachinskoye'\n",
      "'Processing Record of 1 of Set 8 | grand centre'\n",
      "'City not found. Skipping... '\n",
      "'Processing Record of 2 of Set 8 | kenora'\n",
      "'Processing Record of 3 of Set 8 | seoul'\n",
      "'Processing Record of 4 of Set 8 | hay river'\n",
      "'Processing Record of 5 of Set 8 | vilhena'\n",
      "'Processing Record of 6 of Set 8 | haines junction'\n",
      "'Processing Record of 7 of Set 8 | saldanha'\n",
      "'Processing Record of 8 of Set 8 | kununurra'\n",
      "'Processing Record of 9 of Set 8 | port hedland'\n",
      "'Processing Record of 10 of Set 8 | solnechnyy'\n",
      "'Processing Record of 11 of Set 8 | ayagoz'\n",
      "'Processing Record of 12 of Set 8 | jiuquan'\n",
      "'Processing Record of 13 of Set 8 | brigantine'\n",
      "'Processing Record of 14 of Set 8 | ryotsu'\n",
      "'Processing Record of 15 of Set 8 | wattegama'\n",
      "'Processing Record of 16 of Set 8 | kavieng'\n",
      "'Processing Record of 17 of Set 8 | westport'\n",
      "'Processing Record of 18 of Set 8 | darnah'\n",
      "'Processing Record of 19 of Set 8 | urdzhar'\n",
      "'City not found. Skipping... '\n",
      "'Processing Record of 20 of Set 8 | kaura namoda'\n",
      "'Processing Record of 21 of Set 8 | skibbereen'\n",
      "'Processing Record of 22 of Set 8 | shihezi'\n",
      "'Processing Record of 23 of Set 8 | fort nelson'\n",
      "'Processing Record of 24 of Set 8 | komsomolskiy'\n",
      "'Processing Record of 25 of Set 8 | yantal'\n",
      "'Processing Record of 26 of Set 8 | acarau'\n",
      "'Processing Record of 27 of Set 8 | russell'\n",
      "'Processing Record of 28 of Set 8 | port alfred'\n",
      "'Processing Record of 29 of Set 8 | mumford'\n",
      "'Processing Record of 30 of Set 8 | evanston'\n",
      "'Processing Record of 31 of Set 8 | songjianghe'\n",
      "'Processing Record of 32 of Set 8 | araci'\n",
      "'Processing Record of 33 of Set 8 | bafoulabe'\n",
      "'Processing Record of 34 of Set 8 | bridlington'\n",
      "'Processing Record of 35 of Set 8 | bolungarvik'\n",
      "'City not found. Skipping... '\n",
      "'Processing Record of 36 of Set 8 | isla mujeres'\n",
      "'Processing Record of 37 of Set 8 | porbandar'\n",
      "'Processing Record of 38 of Set 8 | hofn'\n",
      "'Processing Record of 39 of Set 8 | huambo'\n",
      "'Processing Record of 40 of Set 8 | katsuura'\n",
      "'Processing Record of 41 of Set 8 | karlivka'\n",
      "'Processing Record of 42 of Set 8 | urumqi'\n",
      "'Processing Record of 43 of Set 8 | kamenka'\n",
      "'Processing Record of 44 of Set 8 | brownsville'\n",
      "'Processing Record of 45 of Set 8 | touros'\n",
      "'Processing Record of 46 of Set 8 | college'\n",
      "'Processing Record of 47 of Set 8 | balimo'\n",
      "'City not found. Skipping... '\n",
      "'Processing Record of 48 of Set 8 | tateyama'\n",
      "'Processing Record of 49 of Set 8 | ucluelet'\n",
      "'Processing Record of 0 of Set 9 | sistranda'\n",
      "'Processing Record of 1 of Set 9 | florida'\n",
      "'Processing Record of 2 of Set 9 | satitoa'\n",
      "'City not found. Skipping... '\n",
      "'Processing Record of 3 of Set 9 | antequera'\n",
      "'Processing Record of 4 of Set 9 | rock sound'\n",
      "'Processing Record of 5 of Set 9 | sisimiut'\n",
      "'Processing Record of 6 of Set 9 | roald'\n",
      "'Processing Record of 7 of Set 9 | whitehorse'\n",
      "'Processing Record of 8 of Set 9 | constitucion'\n",
      "'Processing Record of 9 of Set 9 | sheffield'\n",
      "'Processing Record of 10 of Set 9 | litovko'\n",
      "'Processing Record of 11 of Set 9 | llanes'\n",
      "'Processing Record of 12 of Set 9 | westerland'\n",
      "'Processing Record of 13 of Set 9 | riyadh'\n",
      "'Processing Record of 14 of Set 9 | chagda'\n",
      "'City not found. Skipping... '\n",
      "'Processing Record of 15 of Set 9 | vila franca do campo'\n",
      "'Processing Record of 16 of Set 9 | bolgatanga'\n",
      "'Processing Record of 17 of Set 9 | mys shmidta'\n",
      "'City not found. Skipping... '\n",
      "'Processing Record of 18 of Set 9 | kutum'\n",
      "'Processing Record of 19 of Set 9 | brae'\n",
      "'Processing Record of 20 of Set 9 | mao'\n",
      "'Processing Record of 21 of Set 9 | yanchukan'\n",
      "'City not found. Skipping... '\n",
      "'Processing Record of 22 of Set 9 | bengkulu'\n",
      "'Processing Record of 23 of Set 9 | hukuntsi'\n",
      "'Processing Record of 24 of Set 9 | gushikawa'\n",
      "'Processing Record of 25 of Set 9 | ruidoso'\n",
      "'Processing Record of 26 of Set 9 | klyuchi'\n",
      "'Processing Record of 27 of Set 9 | lujiang'\n",
      "'Processing Record of 28 of Set 9 | alta floresta'\n",
      "'Processing Record of 29 of Set 9 | general pico'\n",
      "'Processing Record of 30 of Set 9 | cabedelo'\n",
      "'Processing Record of 31 of Set 9 | ouesso'\n",
      "'Processing Record of 32 of Set 9 | inhambane'\n",
      "'Processing Record of 33 of Set 9 | toora-khem'\n",
      "'Processing Record of 34 of Set 9 | varhaug'\n",
      "'Processing Record of 35 of Set 9 | christchurch'\n",
      "'Processing Record of 36 of Set 9 | wad madani'\n",
      "'Processing Record of 37 of Set 9 | weiser'\n",
      "'Processing Record of 38 of Set 9 | otane'\n",
      "'Processing Record of 39 of Set 9 | tabou'\n",
      "'Processing Record of 40 of Set 9 | mana'\n",
      "'Processing Record of 41 of Set 9 | one hundred mile house'\n",
      "'City not found. Skipping... '\n",
      "'Processing Record of 42 of Set 9 | standerton'\n",
      "'Processing Record of 43 of Set 9 | gisborne'\n",
      "'Processing Record of 44 of Set 9 | fergus falls'\n",
      "'Processing Record of 45 of Set 9 | fairbanks'\n",
      "'Processing Record of 46 of Set 9 | tasbuget'\n",
      "'City not found. Skipping... '\n",
      "'Processing Record of 47 of Set 9 | laiyang'\n",
      "'Processing Record of 48 of Set 9 | walvis bay'\n",
      "'Processing Record of 49 of Set 9 | solovetskiy'\n",
      "'City not found. Skipping... '\n",
      "'Processing Record of 0 of Set 10 | victor harbor'\n",
      "'Processing Record of 1 of Set 10 | poum'\n",
      "'Processing Record of 2 of Set 10 | west odessa'\n",
      "'Processing Record of 3 of Set 10 | port-gentil'\n",
      "'Processing Record of 4 of Set 10 | caravelas'\n",
      "'Processing Record of 5 of Set 10 | anadyr'\n",
      "'Processing Record of 6 of Set 10 | pesqueira'\n",
      "'Processing Record of 7 of Set 10 | san ramon'\n",
      "'Processing Record of 8 of Set 10 | qui nhon'\n",
      "'Processing Record of 9 of Set 10 | kavaratti'\n",
      "'Processing Record of 10 of Set 10 | talesh'\n",
      "'City not found. Skipping... '\n",
      "'Processing Record of 11 of Set 10 | kasongo-lunda'\n",
      "'Processing Record of 12 of Set 10 | saint-pierre'\n",
      "'Processing Record of 13 of Set 10 | adwa'\n",
      "'Processing Record of 14 of Set 10 | parakai'\n",
      "'Processing Record of 15 of Set 10 | khonsar'\n",
      "'City not found. Skipping... '\n",
      "'Processing Record of 16 of Set 10 | kommunisticheskiy'\n",
      "'Processing Record of 17 of Set 10 | halalo'\n",
      "'City not found. Skipping... '\n",
      "'Processing Record of 18 of Set 10 | aldan'\n",
      "'Processing Record of 19 of Set 10 | kem'\n",
      "'Processing Record of 20 of Set 10 | port augusta'\n",
      "'Processing Record of 21 of Set 10 | palabuhanratu'\n",
      "'City not found. Skipping... '\n",
      "'Processing Record of 22 of Set 10 | salekhard'\n",
      "'Processing Record of 23 of Set 10 | sterling'\n",
      "'Processing Record of 24 of Set 10 | ijaki'\n",
      "'City not found. Skipping... '\n",
      "'Processing Record of 25 of Set 10 | matnog'\n",
      "'Processing Record of 26 of Set 10 | puerto escondido'\n",
      "'Processing Record of 27 of Set 10 | urucara'\n",
      "'Processing Record of 28 of Set 10 | bolobo'\n",
      "'Processing Record of 29 of Set 10 | aloleng'\n",
      "'Processing Record of 30 of Set 10 | bell ville'\n",
      "'Processing Record of 31 of Set 10 | sergeyevka'\n",
      "'Processing Record of 32 of Set 10 | khonuu'\n",
      "'City not found. Skipping... '\n",
      "'Processing Record of 33 of Set 10 | canutama'\n",
      "'Processing Record of 34 of Set 10 | keti bandar'\n",
      "'Processing Record of 35 of Set 10 | dyersburg'\n",
      "'Processing Record of 36 of Set 10 | syracuse'\n",
      "'Processing Record of 37 of Set 10 | launceston'\n",
      "'Processing Record of 38 of Set 10 | sorland'\n",
      "'Processing Record of 39 of Set 10 | sao joaquim'\n",
      "'Processing Record of 40 of Set 10 | yarqa'\n",
      "'Processing Record of 41 of Set 10 | yalvac'\n",
      "'Processing Record of 42 of Set 10 | hubli'\n",
      "'Processing Record of 43 of Set 10 | saleaula'\n",
      "'City not found. Skipping... '\n",
      "'Processing Record of 44 of Set 10 | takoradi'\n",
      "'Processing Record of 45 of Set 10 | severo-kurilsk'\n",
      "'Processing Record of 46 of Set 10 | havre-saint-pierre'\n",
      "'Processing Record of 47 of Set 10 | miramar'\n"
     ]
    },
    {
     "name": "stdout",
     "output_type": "stream",
     "text": [
      "'Processing Record of 48 of Set 10 | marquette'\n",
      "'Processing Record of 49 of Set 10 | kuala terengganu'\n",
      "'Processing Record of 0 of Set 11 | sulangan'\n",
      "'Processing Record of 1 of Set 11 | panjab'\n",
      "'Processing Record of 2 of Set 11 | chapais'\n",
      "'Processing Record of 3 of Set 11 | boca do acre'\n",
      "'Processing Record of 4 of Set 11 | port hawkesbury'\n",
      "'Processing Record of 5 of Set 11 | poronaysk'\n",
      "'Processing Record of 6 of Set 11 | plettenberg bay'\n",
      "'Processing Record of 7 of Set 11 | san policarpo'\n",
      "'Processing Record of 8 of Set 11 | buraydah'\n",
      "'Processing Record of 9 of Set 11 | orsk'\n",
      "'Processing Record of 10 of Set 11 | uyemskiy'\n",
      "'Processing Record of 11 of Set 11 | el dorado'\n",
      "'Processing Record of 12 of Set 11 | novobirilyussy'\n",
      "'Processing Record of 13 of Set 11 | lazaro cardenas'\n",
      "'Processing Record of 14 of Set 11 | trairi'\n",
      "'Processing Record of 15 of Set 11 | bam'\n",
      "'Processing Record of 16 of Set 11 | yulara'\n",
      "'Processing Record of 17 of Set 11 | evreux'\n",
      "'Processing Record of 18 of Set 11 | bada'\n",
      "'Processing Record of 19 of Set 11 | bur gabo'\n",
      "'City not found. Skipping... '\n",
      "'Processing Record of 20 of Set 11 | robertsport'\n",
      "'Processing Record of 21 of Set 11 | ambunti'\n",
      "'Processing Record of 22 of Set 11 | kazalinsk'\n",
      "'City not found. Skipping... '\n",
      "'Processing Record of 23 of Set 11 | basco'\n",
      "'Processing Record of 24 of Set 11 | tautira'\n",
      "'Processing Record of 25 of Set 11 | quesnel'\n",
      "'Processing Record of 26 of Set 11 | sobolevo'\n",
      "'Processing Record of 27 of Set 11 | longonjo'\n",
      "'Processing Record of 28 of Set 11 | nouadhibou'\n",
      "'Processing Record of 29 of Set 11 | ahipara'\n",
      "'Processing Record of 30 of Set 11 | lamu'\n",
      "'Processing Record of 31 of Set 11 | padang'\n",
      "'Processing Record of 32 of Set 11 | sur'\n",
      "'Processing Record of 33 of Set 11 | kristallopiyi'\n",
      "'City not found. Skipping... '\n",
      "'Processing Record of 34 of Set 11 | fortuna'\n",
      "'Processing Record of 35 of Set 11 | sitka'\n",
      "'Processing Record of 36 of Set 11 | gat'\n",
      "'Processing Record of 37 of Set 11 | jaypur'\n",
      "'Processing Record of 38 of Set 11 | warud'\n",
      "'Processing Record of 39 of Set 11 | mehamn'\n",
      "'Processing Record of 40 of Set 11 | lodwar'\n",
      "'Processing Record of 41 of Set 11 | olafsvik'\n",
      "'Processing Record of 42 of Set 11 | stephenville'\n",
      "'Processing Record of 43 of Set 11 | wukari'\n",
      "'Processing Record of 44 of Set 11 | louisbourg'\n",
      "'City not found. Skipping... '\n",
      "'Processing Record of 45 of Set 11 | tuatapere'\n",
      "'Processing Record of 46 of Set 11 | little current'\n",
      "'Processing Record of 47 of Set 11 | samalaeulu'\n",
      "'City not found. Skipping... '\n",
      "'Processing Record of 48 of Set 11 | ambilobe'\n",
      "'Processing Record of 49 of Set 11 | winneba'\n",
      "'Processing Record of 0 of Set 12 | kanda'\n",
      "'Processing Record of 1 of Set 12 | avera'\n",
      "'Processing Record of 2 of Set 12 | ketchikan'\n",
      "'Processing Record of 3 of Set 12 | arlit'\n",
      "'Processing Record of 4 of Set 12 | ankang'\n",
      "'Processing Record of 5 of Set 12 | santiago del estero'\n",
      "'Processing Record of 6 of Set 12 | mayo'\n",
      "'Processing Record of 7 of Set 12 | stawell'\n",
      "'Processing Record of 8 of Set 12 | ossora'\n",
      "'Processing Record of 9 of Set 12 | tasgaon'\n",
      "'Processing Record of 10 of Set 12 | arcata'\n",
      "'Processing Record of 11 of Set 12 | angoche'\n",
      "'Processing Record of 12 of Set 12 | leh'\n",
      "'Processing Record of 13 of Set 12 | faya'\n",
      "'Processing Record of 14 of Set 12 | jalu'\n",
      "'Processing Record of 15 of Set 12 | lompoc'\n",
      "'Processing Record of 16 of Set 12 | oistins'\n",
      "'Processing Record of 17 of Set 12 | kholuy'\n",
      "'Processing Record of 18 of Set 12 | yaan'\n",
      "'Processing Record of 19 of Set 12 | medicine hat'\n",
      "'Processing Record of 20 of Set 12 | rawlins'\n",
      "'Processing Record of 21 of Set 12 | amahai'\n",
      "'Processing Record of 22 of Set 12 | cabatuan'\n",
      "'Processing Record of 23 of Set 12 | mariara'\n",
      "'Processing Record of 24 of Set 12 | jacareacanga'\n",
      "'Processing Record of 25 of Set 12 | craig'\n",
      "'Processing Record of 26 of Set 12 | kaseda'\n",
      "'Processing Record of 27 of Set 12 | farmington'\n",
      "'Processing Record of 28 of Set 12 | boyolangu'\n",
      "'Processing Record of 29 of Set 12 | sarab'\n",
      "'Processing Record of 30 of Set 12 | shitanjing'\n",
      "'Processing Record of 31 of Set 12 | ahuimanu'\n",
      "'Processing Record of 32 of Set 12 | asyut'\n",
      "'Processing Record of 33 of Set 12 | feldkirchen an der donau'\n",
      "'Processing Record of 34 of Set 12 | varniai'\n",
      "'Processing Record of 35 of Set 12 | nortelandia'\n",
      "'Processing Record of 36 of Set 12 | birakan'\n",
      "'Processing Record of 37 of Set 12 | vaitupu'\n",
      "'City not found. Skipping... '\n",
      "'Processing Record of 38 of Set 12 | werda'\n",
      "'Processing Record of 39 of Set 12 | monte cristi'\n",
      "'City not found. Skipping... '\n",
      "'Processing Record of 40 of Set 12 | laguna'\n",
      "'Processing Record of 41 of Set 12 | mashhad'\n",
      "'Processing Record of 42 of Set 12 | maloy'\n",
      "'Processing Record of 43 of Set 12 | vestmannaeyjar'\n",
      "'Processing Record of 44 of Set 12 | salinas'\n",
      "'Processing Record of 45 of Set 12 | oksovskiy'\n",
      "'Processing Record of 46 of Set 12 | shakawe'\n",
      "'Processing Record of 47 of Set 12 | tawkar'\n",
      "'City not found. Skipping... '\n",
      "'Processing Record of 48 of Set 12 | maragogi'\n",
      "'Processing Record of 49 of Set 12 | linxia'\n",
      "'Processing Record of 0 of Set 13 | mount pleasant'\n",
      "'Processing Record of 1 of Set 13 | kamenskoye'\n",
      "'City not found. Skipping... '\n",
      "'Processing Record of 2 of Set 13 | lobez'\n",
      "'Processing Record of 3 of Set 13 | piacabucu'\n",
      "'Processing Record of 4 of Set 13 | ukiah'\n",
      "'Processing Record of 5 of Set 13 | gidole'\n",
      "'Processing Record of 6 of Set 13 | dukat'\n",
      "'Processing Record of 7 of Set 13 | chicama'\n",
      "'Processing Record of 8 of Set 13 | redcliffe'\n",
      "'Processing Record of 9 of Set 13 | depalpur'\n",
      "'Processing Record of 10 of Set 13 | grabouw'\n",
      "'Processing Record of 11 of Set 13 | san luis'\n",
      "'Processing Record of 12 of Set 13 | waipawa'\n",
      "'Processing Record of 13 of Set 13 | kemin'\n",
      "'Processing Record of 14 of Set 13 | doctor pedro p. pena'\n",
      "'City not found. Skipping... '\n",
      "'Processing Record of 15 of Set 13 | utiroa'\n",
      "'City not found. Skipping... '\n",
      "'Processing Record of 16 of Set 13 | neuquen'\n",
      "'Processing Record of 17 of Set 13 | casas grandes'\n",
      "'Processing Record of 18 of Set 13 | sholokhovskiy'\n",
      "'Processing Record of 19 of Set 13 | lingyuan'\n",
      "'Processing Record of 20 of Set 13 | yirol'\n",
      "'City not found. Skipping... '\n",
      "'Processing Record of 21 of Set 13 | kushiro'\n",
      "'Processing Record of 22 of Set 13 | mount gambier'\n",
      "'Processing Record of 23 of Set 13 | kovdor'\n",
      "'Processing Record of 24 of Set 13 | moyamba'\n",
      "'Processing Record of 25 of Set 13 | shudayag'\n",
      "'Processing Record of 26 of Set 13 | bilibino'\n",
      "'Processing Record of 27 of Set 13 | umzimvubu'\n",
      "'City not found. Skipping... '\n",
      "'Processing Record of 28 of Set 13 | wuppertal'\n",
      "'Processing Record of 29 of Set 13 | porto novo'\n",
      "'Processing Record of 30 of Set 13 | erdaojiang'\n",
      "'Processing Record of 31 of Set 13 | bubaque'\n",
      "'Processing Record of 32 of Set 13 | miranda de ebro'\n",
      "'Processing Record of 33 of Set 13 | dawei'\n",
      "'Processing Record of 34 of Set 13 | aksarka'\n",
      "'Processing Record of 35 of Set 13 | labrea'\n",
      "-----------------------------\n",
      "Data Retrieval Complete\n",
      "-----------------------------\n"
     ]
    }
   ],
   "source": [
    "url = \"http://api.openweathermap.org/data/2.5/weather?\"\n",
    "units = \"imperial\"\n",
    "\n",
    "query_url = f\"{url}appid={weather_api_key}&units={units}&q=\"\n",
    "\n",
    "City = []\n",
    "Lat = []\n",
    "Lng = []\n",
    "Max_Temp = []\n",
    "Humidity = []\n",
    "Cloudiness = []\n",
    "Wind_Speed = []\n",
    "Country = []\n",
    "Date = []\n",
    "\n",
    "cityCounter = 0\n",
    "loopCounter = 1\n",
    "\n",
    "print(\"Beginning Data Retrieval\")\n",
    "print(\"-----------------------------\")\n",
    "               \n",
    "for city in cities:\n",
    "   \n",
    "      \n",
    "    response = requests.get(query_url + city).json()\n",
    "    #pprint(response) \n",
    "\n",
    "    try:\n",
    "        pprint(f\"Processing Record of {cityCounter} of Set {loopCounter} | {city}\")\n",
    "        \n",
    "        City.append(response[\"name\"])\n",
    "        Country.append(response[\"sys\"][\"country\"])\n",
    "        Date.append(response[\"dt\"])\n",
    "        Lat.append(response[\"coord\"][\"lat\"])\n",
    "        Lng.append(response[\"coord\"][\"lon\"])\n",
    "        Max_Temp.append(response[\"main\"][\"temp_max\"])\n",
    "        Humidity.append(response[\"main\"][\"humidity\"])\n",
    "        Cloudiness.append(response[\"clouds\"][\"all\"])\n",
    "        Wind_Speed.append(response[\"wind\"][\"speed\"])            \n",
    "     \n",
    "    except:            \n",
    "        pprint(f\"City not found. Skipping... \")\n",
    "    \n",
    "    #incrementing the city counter by 1\n",
    "    cityCounter += 1\n",
    "    \n",
    "    #Resetting the city counter and incrementing the set counter\n",
    "    if cityCounter == 50:\n",
    "        cityCounter = 0\n",
    "        loopCounter += 1\n",
    "        time.sleep(5)\n",
    "    \n",
    "print(\"-----------------------------\")                \n",
    "print(\"Data Retrieval Complete\")      \n",
    "print(\"-----------------------------\")\n"
   ]
  },
  {
   "cell_type": "markdown",
   "metadata": {},
   "source": [
    "### Convert Raw Data to DataFrame\n",
    "* Export the city data into a .csv.\n",
    "* Display the DataFrame"
   ]
  },
  {
   "cell_type": "code",
   "execution_count": 9,
   "metadata": {},
   "outputs": [
    {
     "data": {
      "text/html": [
       "<div>\n",
       "<style scoped>\n",
       "    .dataframe tbody tr th:only-of-type {\n",
       "        vertical-align: middle;\n",
       "    }\n",
       "\n",
       "    .dataframe tbody tr th {\n",
       "        vertical-align: top;\n",
       "    }\n",
       "\n",
       "    .dataframe thead th {\n",
       "        text-align: right;\n",
       "    }\n",
       "</style>\n",
       "<table border=\"1\" class=\"dataframe\">\n",
       "  <thead>\n",
       "    <tr style=\"text-align: right;\">\n",
       "      <th></th>\n",
       "      <th>City</th>\n",
       "      <th>Lat</th>\n",
       "      <th>Lng</th>\n",
       "      <th>Max Temp</th>\n",
       "      <th>Humidity</th>\n",
       "      <th>Cloudiness</th>\n",
       "      <th>Wind Speed</th>\n",
       "      <th>Country</th>\n",
       "      <th>Date</th>\n",
       "    </tr>\n",
       "  </thead>\n",
       "  <tbody>\n",
       "    <tr>\n",
       "      <th>0</th>\n",
       "      <td>Khovd</td>\n",
       "      <td>48.0056</td>\n",
       "      <td>91.6419</td>\n",
       "      <td>64.00</td>\n",
       "      <td>33</td>\n",
       "      <td>4</td>\n",
       "      <td>4.27</td>\n",
       "      <td>MN</td>\n",
       "      <td>1658888140</td>\n",
       "    </tr>\n",
       "    <tr>\n",
       "      <th>1</th>\n",
       "      <td>Aklavik</td>\n",
       "      <td>68.2191</td>\n",
       "      <td>-135.0107</td>\n",
       "      <td>64.96</td>\n",
       "      <td>32</td>\n",
       "      <td>100</td>\n",
       "      <td>20.49</td>\n",
       "      <td>CA</td>\n",
       "      <td>1658888141</td>\n",
       "    </tr>\n",
       "    <tr>\n",
       "      <th>2</th>\n",
       "      <td>Hermanus</td>\n",
       "      <td>-34.4187</td>\n",
       "      <td>19.2345</td>\n",
       "      <td>54.43</td>\n",
       "      <td>85</td>\n",
       "      <td>46</td>\n",
       "      <td>1.79</td>\n",
       "      <td>ZA</td>\n",
       "      <td>1658888141</td>\n",
       "    </tr>\n",
       "    <tr>\n",
       "      <th>3</th>\n",
       "      <td>George Town</td>\n",
       "      <td>5.4112</td>\n",
       "      <td>100.3354</td>\n",
       "      <td>84.13</td>\n",
       "      <td>79</td>\n",
       "      <td>20</td>\n",
       "      <td>4.61</td>\n",
       "      <td>MY</td>\n",
       "      <td>1658887851</td>\n",
       "    </tr>\n",
       "    <tr>\n",
       "      <th>4</th>\n",
       "      <td>Provideniya</td>\n",
       "      <td>64.3833</td>\n",
       "      <td>-173.3000</td>\n",
       "      <td>51.91</td>\n",
       "      <td>66</td>\n",
       "      <td>0</td>\n",
       "      <td>20.13</td>\n",
       "      <td>RU</td>\n",
       "      <td>1658888141</td>\n",
       "    </tr>\n",
       "  </tbody>\n",
       "</table>\n",
       "</div>"
      ],
      "text/plain": [
       "          City      Lat       Lng  Max Temp  Humidity  Cloudiness  Wind Speed  \\\n",
       "0        Khovd  48.0056   91.6419     64.00        33           4        4.27   \n",
       "1      Aklavik  68.2191 -135.0107     64.96        32         100       20.49   \n",
       "2     Hermanus -34.4187   19.2345     54.43        85          46        1.79   \n",
       "3  George Town   5.4112  100.3354     84.13        79          20        4.61   \n",
       "4  Provideniya  64.3833 -173.3000     51.91        66           0       20.13   \n",
       "\n",
       "  Country        Date  \n",
       "0      MN  1658888140  \n",
       "1      CA  1658888141  \n",
       "2      ZA  1658888141  \n",
       "3      MY  1658887851  \n",
       "4      RU  1658888141  "
      ]
     },
     "execution_count": 9,
     "metadata": {},
     "output_type": "execute_result"
    }
   ],
   "source": [
    "# Convert to DataFrame\n",
    "weather_dict = {\n",
    "    \"City\": City,\n",
    "    \"Lat\": Lat,\n",
    "    \"Lng\": Lng,\n",
    "    \"Max Temp\": Max_Temp,\n",
    "    \"Humidity\": Humidity,\n",
    "    \"Cloudiness\": Cloudiness,\n",
    "    \"Wind Speed\": Wind_Speed,\n",
    "    \"Country\": Country,\n",
    "    \"Date\": Date\n",
    "}\n",
    "weather_checkDF = pd.DataFrame(weather_dict)\n",
    "weather_checkDF.head()"
   ]
  },
  {
   "cell_type": "code",
   "execution_count": 10,
   "metadata": {
    "scrolled": false
   },
   "outputs": [
    {
     "data": {
      "text/html": [
       "<div>\n",
       "<style scoped>\n",
       "    .dataframe tbody tr th:only-of-type {\n",
       "        vertical-align: middle;\n",
       "    }\n",
       "\n",
       "    .dataframe tbody tr th {\n",
       "        vertical-align: top;\n",
       "    }\n",
       "\n",
       "    .dataframe thead th {\n",
       "        text-align: right;\n",
       "    }\n",
       "</style>\n",
       "<table border=\"1\" class=\"dataframe\">\n",
       "  <thead>\n",
       "    <tr style=\"text-align: right;\">\n",
       "      <th></th>\n",
       "      <th>City</th>\n",
       "      <th>Lat</th>\n",
       "      <th>Lng</th>\n",
       "      <th>Max Temp</th>\n",
       "      <th>Humidity</th>\n",
       "      <th>Cloudiness</th>\n",
       "      <th>Wind Speed</th>\n",
       "      <th>Country</th>\n",
       "      <th>Date</th>\n",
       "    </tr>\n",
       "  </thead>\n",
       "  <tbody>\n",
       "    <tr>\n",
       "      <th>0</th>\n",
       "      <td>Khovd</td>\n",
       "      <td>48.0056</td>\n",
       "      <td>91.6419</td>\n",
       "      <td>64.00</td>\n",
       "      <td>33</td>\n",
       "      <td>4</td>\n",
       "      <td>4.27</td>\n",
       "      <td>MN</td>\n",
       "      <td>1658888140</td>\n",
       "    </tr>\n",
       "    <tr>\n",
       "      <th>1</th>\n",
       "      <td>Aklavik</td>\n",
       "      <td>68.2191</td>\n",
       "      <td>-135.0107</td>\n",
       "      <td>64.96</td>\n",
       "      <td>32</td>\n",
       "      <td>100</td>\n",
       "      <td>20.49</td>\n",
       "      <td>CA</td>\n",
       "      <td>1658888141</td>\n",
       "    </tr>\n",
       "    <tr>\n",
       "      <th>2</th>\n",
       "      <td>Hermanus</td>\n",
       "      <td>-34.4187</td>\n",
       "      <td>19.2345</td>\n",
       "      <td>54.43</td>\n",
       "      <td>85</td>\n",
       "      <td>46</td>\n",
       "      <td>1.79</td>\n",
       "      <td>ZA</td>\n",
       "      <td>1658888141</td>\n",
       "    </tr>\n",
       "    <tr>\n",
       "      <th>3</th>\n",
       "      <td>George Town</td>\n",
       "      <td>5.4112</td>\n",
       "      <td>100.3354</td>\n",
       "      <td>84.13</td>\n",
       "      <td>79</td>\n",
       "      <td>20</td>\n",
       "      <td>4.61</td>\n",
       "      <td>MY</td>\n",
       "      <td>1658887851</td>\n",
       "    </tr>\n",
       "    <tr>\n",
       "      <th>4</th>\n",
       "      <td>Provideniya</td>\n",
       "      <td>64.3833</td>\n",
       "      <td>-173.3000</td>\n",
       "      <td>51.91</td>\n",
       "      <td>66</td>\n",
       "      <td>0</td>\n",
       "      <td>20.13</td>\n",
       "      <td>RU</td>\n",
       "      <td>1658888141</td>\n",
       "    </tr>\n",
       "  </tbody>\n",
       "</table>\n",
       "</div>"
      ],
      "text/plain": [
       "          City      Lat       Lng  Max Temp  Humidity  Cloudiness  Wind Speed  \\\n",
       "0        Khovd  48.0056   91.6419     64.00        33           4        4.27   \n",
       "1      Aklavik  68.2191 -135.0107     64.96        32         100       20.49   \n",
       "2     Hermanus -34.4187   19.2345     54.43        85          46        1.79   \n",
       "3  George Town   5.4112  100.3354     84.13        79          20        4.61   \n",
       "4  Provideniya  64.3833 -173.3000     51.91        66           0       20.13   \n",
       "\n",
       "  Country        Date  \n",
       "0      MN  1658888140  \n",
       "1      CA  1658888141  \n",
       "2      ZA  1658888141  \n",
       "3      MY  1658887851  \n",
       "4      RU  1658888141  "
      ]
     },
     "execution_count": 10,
     "metadata": {},
     "output_type": "execute_result"
    }
   ],
   "source": [
    "#weather_checkDF.to_csv(\"output_data/weatherdata.csv\", index = False)\n",
    "weather_checkDF.to_csv(output_data_file,index=False)\n",
    "weather_checkDF.head(5)\n"
   ]
  },
  {
   "cell_type": "code",
   "execution_count": 11,
   "metadata": {},
   "outputs": [
    {
     "data": {
      "text/plain": [
       "City           object\n",
       "Lat           float64\n",
       "Lng           float64\n",
       "Max Temp      float64\n",
       "Humidity        int64\n",
       "Cloudiness      int64\n",
       "Wind Speed    float64\n",
       "Country        object\n",
       "Date            int64\n",
       "dtype: object"
      ]
     },
     "execution_count": 11,
     "metadata": {},
     "output_type": "execute_result"
    }
   ],
   "source": [
    "weather_checkDF.dtypes"
   ]
  },
  {
   "cell_type": "code",
   "execution_count": 12,
   "metadata": {},
   "outputs": [],
   "source": [
    "#weather_checkDF = pd.read_csv(output_data_file)\n",
    "#weather_checkDF.head(10)"
   ]
  },
  {
   "cell_type": "code",
   "execution_count": 13,
   "metadata": {
    "scrolled": true
   },
   "outputs": [
    {
     "data": {
      "text/html": [
       "<div>\n",
       "<style scoped>\n",
       "    .dataframe tbody tr th:only-of-type {\n",
       "        vertical-align: middle;\n",
       "    }\n",
       "\n",
       "    .dataframe tbody tr th {\n",
       "        vertical-align: top;\n",
       "    }\n",
       "\n",
       "    .dataframe thead th {\n",
       "        text-align: right;\n",
       "    }\n",
       "</style>\n",
       "<table border=\"1\" class=\"dataframe\">\n",
       "  <thead>\n",
       "    <tr style=\"text-align: right;\">\n",
       "      <th></th>\n",
       "      <th>Lat</th>\n",
       "      <th>Lng</th>\n",
       "      <th>Max Temp</th>\n",
       "      <th>Humidity</th>\n",
       "      <th>Cloudiness</th>\n",
       "      <th>Wind Speed</th>\n",
       "      <th>Date</th>\n",
       "    </tr>\n",
       "  </thead>\n",
       "  <tbody>\n",
       "    <tr>\n",
       "      <th>count</th>\n",
       "      <td>575.00000</td>\n",
       "      <td>575.000000</td>\n",
       "      <td>575.000000</td>\n",
       "      <td>575.000000</td>\n",
       "      <td>575.000000</td>\n",
       "      <td>575.000000</td>\n",
       "      <td>5.750000e+02</td>\n",
       "    </tr>\n",
       "    <tr>\n",
       "      <th>mean</th>\n",
       "      <td>21.22702</td>\n",
       "      <td>16.456440</td>\n",
       "      <td>69.139113</td>\n",
       "      <td>72.267826</td>\n",
       "      <td>57.953043</td>\n",
       "      <td>7.607913</td>\n",
       "      <td>1.658888e+09</td>\n",
       "    </tr>\n",
       "    <tr>\n",
       "      <th>std</th>\n",
       "      <td>33.16856</td>\n",
       "      <td>93.034741</td>\n",
       "      <td>13.082666</td>\n",
       "      <td>20.431357</td>\n",
       "      <td>40.161688</td>\n",
       "      <td>5.329459</td>\n",
       "      <td>9.450251e+01</td>\n",
       "    </tr>\n",
       "    <tr>\n",
       "      <th>min</th>\n",
       "      <td>-54.80000</td>\n",
       "      <td>-179.166700</td>\n",
       "      <td>32.110000</td>\n",
       "      <td>10.000000</td>\n",
       "      <td>0.000000</td>\n",
       "      <td>0.000000</td>\n",
       "      <td>1.658888e+09</td>\n",
       "    </tr>\n",
       "    <tr>\n",
       "      <th>25%</th>\n",
       "      <td>-5.06985</td>\n",
       "      <td>-65.443750</td>\n",
       "      <td>59.550000</td>\n",
       "      <td>63.000000</td>\n",
       "      <td>13.500000</td>\n",
       "      <td>3.440000</td>\n",
       "      <td>1.658888e+09</td>\n",
       "    </tr>\n",
       "    <tr>\n",
       "      <th>50%</th>\n",
       "      <td>26.32600</td>\n",
       "      <td>19.703200</td>\n",
       "      <td>70.300000</td>\n",
       "      <td>77.000000</td>\n",
       "      <td>74.000000</td>\n",
       "      <td>6.260000</td>\n",
       "      <td>1.658888e+09</td>\n",
       "    </tr>\n",
       "    <tr>\n",
       "      <th>75%</th>\n",
       "      <td>49.15180</td>\n",
       "      <td>100.080200</td>\n",
       "      <td>79.215000</td>\n",
       "      <td>87.500000</td>\n",
       "      <td>100.000000</td>\n",
       "      <td>10.760000</td>\n",
       "      <td>1.658888e+09</td>\n",
       "    </tr>\n",
       "    <tr>\n",
       "      <th>max</th>\n",
       "      <td>78.21860</td>\n",
       "      <td>179.316700</td>\n",
       "      <td>106.840000</td>\n",
       "      <td>100.000000</td>\n",
       "      <td>100.000000</td>\n",
       "      <td>26.510000</td>\n",
       "      <td>1.658888e+09</td>\n",
       "    </tr>\n",
       "  </tbody>\n",
       "</table>\n",
       "</div>"
      ],
      "text/plain": [
       "             Lat         Lng    Max Temp    Humidity  Cloudiness  Wind Speed  \\\n",
       "count  575.00000  575.000000  575.000000  575.000000  575.000000  575.000000   \n",
       "mean    21.22702   16.456440   69.139113   72.267826   57.953043    7.607913   \n",
       "std     33.16856   93.034741   13.082666   20.431357   40.161688    5.329459   \n",
       "min    -54.80000 -179.166700   32.110000   10.000000    0.000000    0.000000   \n",
       "25%     -5.06985  -65.443750   59.550000   63.000000   13.500000    3.440000   \n",
       "50%     26.32600   19.703200   70.300000   77.000000   74.000000    6.260000   \n",
       "75%     49.15180  100.080200   79.215000   87.500000  100.000000   10.760000   \n",
       "max     78.21860  179.316700  106.840000  100.000000  100.000000   26.510000   \n",
       "\n",
       "               Date  \n",
       "count  5.750000e+02  \n",
       "mean   1.658888e+09  \n",
       "std    9.450251e+01  \n",
       "min    1.658888e+09  \n",
       "25%    1.658888e+09  \n",
       "50%    1.658888e+09  \n",
       "75%    1.658888e+09  \n",
       "max    1.658888e+09  "
      ]
     },
     "execution_count": 13,
     "metadata": {},
     "output_type": "execute_result"
    }
   ],
   "source": [
    "weather_checkDF.describe()"
   ]
  },
  {
   "cell_type": "markdown",
   "metadata": {},
   "source": [
    "## Inspect the data and remove the cities where the humidity > 100%.\n",
    "----\n",
    "Skip this step if there are no cities that have humidity > 100%. "
   ]
  },
  {
   "cell_type": "code",
   "execution_count": 14,
   "metadata": {},
   "outputs": [],
   "source": [
    "#Check if max of Humidity > 100\n",
    "if weather_checkDF[\"Humidity\"].max() > 100:\n",
    "    Humidity_revisedData = weather_checkDF.loc[weather_checkDF[\"Humidity\"] <= 100]\n",
    "    Humidity_revisedData.describe()\n",
    "    "
   ]
  },
  {
   "cell_type": "code",
   "execution_count": 15,
   "metadata": {},
   "outputs": [
    {
     "data": {
      "text/plain": [
       "Int64Index([], dtype='int64')"
      ]
     },
     "execution_count": 15,
     "metadata": {},
     "output_type": "execute_result"
    }
   ],
   "source": [
    "#  Get the indices of cities that have humidity over 100%\n",
    "Humidity100_index = weather_checkDF.index[weather_checkDF[\"Humidity\"] > 100]\n",
    "Humidity100_index"
   ]
  },
  {
   "cell_type": "code",
   "execution_count": 16,
   "metadata": {},
   "outputs": [
    {
     "data": {
      "text/html": [
       "<div>\n",
       "<style scoped>\n",
       "    .dataframe tbody tr th:only-of-type {\n",
       "        vertical-align: middle;\n",
       "    }\n",
       "\n",
       "    .dataframe tbody tr th {\n",
       "        vertical-align: top;\n",
       "    }\n",
       "\n",
       "    .dataframe thead th {\n",
       "        text-align: right;\n",
       "    }\n",
       "</style>\n",
       "<table border=\"1\" class=\"dataframe\">\n",
       "  <thead>\n",
       "    <tr style=\"text-align: right;\">\n",
       "      <th></th>\n",
       "      <th>City</th>\n",
       "      <th>Lat</th>\n",
       "      <th>Lng</th>\n",
       "      <th>Max Temp</th>\n",
       "      <th>Humidity</th>\n",
       "      <th>Cloudiness</th>\n",
       "      <th>Wind Speed</th>\n",
       "      <th>Country</th>\n",
       "      <th>Date</th>\n",
       "    </tr>\n",
       "  </thead>\n",
       "  <tbody>\n",
       "    <tr>\n",
       "      <th>0</th>\n",
       "      <td>Khovd</td>\n",
       "      <td>48.0056</td>\n",
       "      <td>91.6419</td>\n",
       "      <td>64.00</td>\n",
       "      <td>33</td>\n",
       "      <td>4</td>\n",
       "      <td>4.27</td>\n",
       "      <td>MN</td>\n",
       "      <td>1658888140</td>\n",
       "    </tr>\n",
       "    <tr>\n",
       "      <th>1</th>\n",
       "      <td>Aklavik</td>\n",
       "      <td>68.2191</td>\n",
       "      <td>-135.0107</td>\n",
       "      <td>64.96</td>\n",
       "      <td>32</td>\n",
       "      <td>100</td>\n",
       "      <td>20.49</td>\n",
       "      <td>CA</td>\n",
       "      <td>1658888141</td>\n",
       "    </tr>\n",
       "    <tr>\n",
       "      <th>2</th>\n",
       "      <td>Hermanus</td>\n",
       "      <td>-34.4187</td>\n",
       "      <td>19.2345</td>\n",
       "      <td>54.43</td>\n",
       "      <td>85</td>\n",
       "      <td>46</td>\n",
       "      <td>1.79</td>\n",
       "      <td>ZA</td>\n",
       "      <td>1658888141</td>\n",
       "    </tr>\n",
       "    <tr>\n",
       "      <th>3</th>\n",
       "      <td>George Town</td>\n",
       "      <td>5.4112</td>\n",
       "      <td>100.3354</td>\n",
       "      <td>84.13</td>\n",
       "      <td>79</td>\n",
       "      <td>20</td>\n",
       "      <td>4.61</td>\n",
       "      <td>MY</td>\n",
       "      <td>1658887851</td>\n",
       "    </tr>\n",
       "    <tr>\n",
       "      <th>4</th>\n",
       "      <td>Provideniya</td>\n",
       "      <td>64.3833</td>\n",
       "      <td>-173.3000</td>\n",
       "      <td>51.91</td>\n",
       "      <td>66</td>\n",
       "      <td>0</td>\n",
       "      <td>20.13</td>\n",
       "      <td>RU</td>\n",
       "      <td>1658888141</td>\n",
       "    </tr>\n",
       "  </tbody>\n",
       "</table>\n",
       "</div>"
      ],
      "text/plain": [
       "          City      Lat       Lng  Max Temp  Humidity  Cloudiness  Wind Speed  \\\n",
       "0        Khovd  48.0056   91.6419     64.00        33           4        4.27   \n",
       "1      Aklavik  68.2191 -135.0107     64.96        32         100       20.49   \n",
       "2     Hermanus -34.4187   19.2345     54.43        85          46        1.79   \n",
       "3  George Town   5.4112  100.3354     84.13        79          20        4.61   \n",
       "4  Provideniya  64.3833 -173.3000     51.91        66           0       20.13   \n",
       "\n",
       "  Country        Date  \n",
       "0      MN  1658888140  \n",
       "1      CA  1658888141  \n",
       "2      ZA  1658888141  \n",
       "3      MY  1658887851  \n",
       "4      RU  1658888141  "
      ]
     },
     "execution_count": 16,
     "metadata": {},
     "output_type": "execute_result"
    }
   ],
   "source": [
    "# Make a new DataFrame equal to the city data to drop all humidity outliers by index.\n",
    "# Passing \"inplace=False\" will make a copy of the city_data DataFrame, which we call \"clean_city_data\".\n",
    "clean_city_data = weather_checkDF.drop(Humidity100_index, inplace=False )\n",
    "clean_city_data.head(5)"
   ]
  },
  {
   "cell_type": "code",
   "execution_count": null,
   "metadata": {},
   "outputs": [],
   "source": [
    "\n"
   ]
  },
  {
   "cell_type": "markdown",
   "metadata": {},
   "source": [
    "## Plotting the Data\n",
    "* Use proper labeling of the plots using plot titles (including date of analysis) and axes labels.\n",
    "* Save the plotted figures as .pngs."
   ]
  },
  {
   "cell_type": "markdown",
   "metadata": {},
   "source": [
    "## Latitude vs. Temperature Plot"
   ]
  },
  {
   "cell_type": "code",
   "execution_count": 17,
   "metadata": {},
   "outputs": [
    {
     "data": {
      "image/png": "[encoded data removed]",
      "text/plain": [
       "<Figure size 432x288 with 1 Axes>"
      ]
     },
     "metadata": {
      "needs_background": "light"
     },
     "output_type": "display_data"
    }
   ],
   "source": [
    "# Scatter plat of Latitude vs. Temperature\n",
    "plt.scatter(clean_city_data[\"Lat\"],clean_city_data[\"Max Temp\"], facecolor='steelblue', edgecolor='black')\n",
    "\n",
    "#today's date\n",
    "today = pd.to_datetime(\"today\").strftime(\"%m/%d/%Y\")\n",
    "\n",
    "plt.title(f\"City Latitude vs. Max Temperatur ({today})\")\n",
    "plt.xlabel('Latitude')\n",
    "plt.ylabel('Max Temperature (F)')\n",
    "plt.grid(which='major', linestyle='-')\n",
    "\n",
    "#saving the scatter plot to a .png file\n",
    "plt.savefig(\"output_data/LatVsTemp_scatter_plot.png\")\n",
    "plt.show()"
   ]
  },
  {
   "cell_type": "markdown",
   "metadata": {},
   "source": [
    "### Latitude vs Temperature Scatter Plot Insights\n",
    "\n",
    "This scatter plot maps the latitude Vs Maximum temperature of randomly selected cities within the latitude range between -90 and 90 and longitude range between -180 and 180.\n",
    "\n",
    "It shows that the temperature increases as we approach equator(latitude 0). The max. temperatures between Latitude 20 and 40 is due to summer season in Northern hemisphere.(This plot is taken in Jul which is summer for northern hemisphere).\n"
   ]
  },
  {
   "cell_type": "markdown",
   "metadata": {},
   "source": [
    "## Latitude vs. Humidity Plot"
   ]
  },
  {
   "cell_type": "code",
   "execution_count": 18,
   "metadata": {},
   "outputs": [
    {
     "data": {
      "image/png": "[encoded data removed]",
      "text/plain": [
       "<Figure size 432x288 with 1 Axes>"
      ]
     },
     "metadata": {
      "needs_background": "light"
     },
     "output_type": "display_data"
    }
   ],
   "source": [
    "# Scatter plat of Latitude vs. Humidity\n",
    "plt.scatter(clean_city_data[\"Lat\"],clean_city_data[\"Humidity\"], facecolor='steelblue', edgecolor='black')\n",
    "\n",
    "#today's date\n",
    "today = pd.to_datetime(\"today\").strftime(\"%m/%d/%Y\")\n",
    "\n",
    "plt.title(f\"City Latitude vs. Humidity ({today})\")\n",
    "plt.xlabel('Latitude')\n",
    "plt.ylabel('Humidity (%)')\n",
    "plt.grid(which='major', linestyle='-')\n",
    "\n",
    "#saving the scatter plot to a .png file\n",
    "plt.savefig(\"output_data/LatVsHumidity_scatter_plot.png\")\n",
    "plt.show()"
   ]
  },
  {
   "cell_type": "markdown",
   "metadata": {},
   "source": [
    "### Latitude vs Humidity Scatter Plot Insights\n",
    "\n",
    "This scatter plot maps the latitude Vs Humidity for randomly selected 500+ cities.\n",
    "It shows that there is no relationship between Latitude and Humidity. Since this plot is taken in July, the Humidity is higher for more cities across both the hemispheres."
   ]
  },
  {
   "cell_type": "markdown",
   "metadata": {},
   "source": [
    "## Latitude vs. Cloudiness Plot"
   ]
  },
  {
   "cell_type": "code",
   "execution_count": 19,
   "metadata": {},
   "outputs": [
    {
     "data": {
      "image/png": "[encoded data removed]",
      "text/plain": [
       "<Figure size 432x288 with 1 Axes>"
      ]
     },
     "metadata": {
      "needs_background": "light"
     },
     "output_type": "display_data"
    }
   ],
   "source": [
    "# Scatter plat of Latitude vs. Cloudiness\n",
    "plt.scatter(clean_city_data[\"Lat\"],clean_city_data[\"Cloudiness\"], facecolor='steelblue', edgecolor='black')\n",
    "\n",
    "#today's date\n",
    "today = pd.to_datetime(\"today\").strftime(\"%m/%d/%Y\")\n",
    "\n",
    "plt.title(f\"City Latitude vs. Cloudiness ({today})\")\n",
    "plt.xlabel('Latitude')\n",
    "plt.ylabel('Cloudiness (%)')\n",
    "plt.grid(which='major', linestyle='-')\n",
    "\n",
    "#saving the scatter plot to a .png file\n",
    "plt.savefig(\"output_data/LatVsCloudiness_scatter_plot.png\")\n",
    "plt.show()"
   ]
  },
  {
   "cell_type": "markdown",
   "metadata": {},
   "source": [
    "### Latitude vs Cloudiness Scatter Plot Insights\n",
    "\n",
    "This scatter plot shows that there is no particular relation between latitude and cloudiness for the ramdomly selected 500+ cities."
   ]
  },
  {
   "cell_type": "markdown",
   "metadata": {},
   "source": [
    "## Latitude vs. Wind Speed Plot"
   ]
  },
  {
   "cell_type": "code",
   "execution_count": 20,
   "metadata": {},
   "outputs": [
    {
     "data": {
      "image/png": "[encoded data removed]",
      "text/plain": [
       "<Figure size 432x288 with 1 Axes>"
      ]
     },
     "metadata": {
      "needs_background": "light"
     },
     "output_type": "display_data"
    }
   ],
   "source": [
    "# Scatter plat of Latitude vs. Wind Speed\n",
    "plt.scatter(clean_city_data[\"Lat\"],clean_city_data[\"Wind Speed\"], facecolor='steelblue', edgecolor='black')\n",
    "\n",
    "#today's date\n",
    "today = pd.to_datetime(\"today\").strftime(\"%m/%d/%Y\")\n",
    "\n",
    "plt.title(f\"City Latitude vs. Wind Speed ({today})\")\n",
    "plt.xlabel('Latitude')\n",
    "plt.ylabel('Wind Speed (mph)')\n",
    "plt.grid(which='major', linestyle='-')\n",
    "\n",
    "#saving the scatter plot to a .png file\n",
    "plt.savefig(\"output_data/LatVsWindSpeed_scatter_plot.png\")\n",
    "plt.show()"
   ]
  },
  {
   "cell_type": "markdown",
   "metadata": {},
   "source": [
    "### Latitude vs Wind Speed Scatter Plot Insights\n",
    "\n",
    "This scatter plot shows that there is no particular relation between Latitude and Wind speed for the ramdomly selected 500+ cities."
   ]
  },
  {
   "cell_type": "markdown",
   "metadata": {},
   "source": [
    "## Linear Regression"
   ]
  },
  {
   "cell_type": "code",
   "execution_count": 21,
   "metadata": {},
   "outputs": [],
   "source": [
    "#create DataFrames for Northern and Southern Hemisphere\n",
    "Northern_Hemisphere = clean_city_data.loc[clean_city_data[\"Lat\"] >= 0]\n",
    "Southern_Hemisphere = clean_city_data.loc[clean_city_data[\"Lat\"] < 0]"
   ]
  },
  {
   "cell_type": "code",
   "execution_count": 22,
   "metadata": {},
   "outputs": [],
   "source": [
    "# Create a function for linear regression and scatter plot\n",
    "\n",
    "def linear_regression(x,y):\n",
    "    #Calculate r-value\n",
    "    correlation = st.pearsonr(x,y)\n",
    "    print(f\"The r-value is: {correlation[0]}\")\n",
    "\n",
    "    # Add the linear regression equation and line to plot\n",
    "\n",
    "    (slope, intercept, rvalue, pvalue, stderr) = st.linregress(x, y)\n",
    "    regress_values = x * slope + intercept\n",
    "    line_equation = \"y = \" + str(round(slope,2)) + \"x + \" + str(round(intercept,2))\n",
    "    plt.scatter(x, y)\n",
    "    plt.plot(x,regress_values,\"r-\")\n",
    "    \n",
    "    return line_equation"
   ]
  },
  {
   "cell_type": "markdown",
   "metadata": {},
   "source": [
    "####  Northern Hemisphere - Max Temp vs. Latitude Linear Regression"
   ]
  },
  {
   "cell_type": "code",
   "execution_count": 23,
   "metadata": {},
   "outputs": [
    {
     "name": "stdout",
     "output_type": "stream",
     "text": [
      "The r-value is: -0.6241913219142132\n"
     ]
    },
    {
     "data": {
      "image/png": "[encoded data removed]",
      "text/plain": [
       "<Figure size 432x288 with 1 Axes>"
      ]
     },
     "metadata": {
      "needs_background": "light"
     },
     "output_type": "display_data"
    }
   ],
   "source": [
    "x_values = Northern_Hemisphere[\"Lat\"]\n",
    "y_values = Northern_Hemisphere[\"Max Temp\"]\n",
    "\n",
    "#Calling linear_regression function\n",
    "line_eq = linear_regression(x_values, y_values)\n",
    "\n",
    "plt.annotate(line_eq,(10,40),fontsize=15,color=\"red\")\n",
    "plt.title(\"Northern Hemisphere - Latitude Vs. Max Temp Linear Regression\")\n",
    "plt.xlabel('Latitude')\n",
    "plt.ylabel('Max Temp')\n",
    "\n",
    "plt.savefig(\"output_data/North_LatVsMaxTemp_regression_plot.png\")\n",
    "plt.tight_layout()\n",
    "plt.show()"
   ]
  },
  {
   "cell_type": "markdown",
   "metadata": {},
   "source": [
    "####  Southern Hemisphere - Max Temp vs. Latitude Linear Regression"
   ]
  },
  {
   "cell_type": "code",
   "execution_count": 24,
   "metadata": {},
   "outputs": [
    {
     "name": "stdout",
     "output_type": "stream",
     "text": [
      "The r-value is: 0.7778804361175362\n"
     ]
    },
    {
     "data": {
      "image/png": "[encoded data removed]",
      "text/plain": [
       "<Figure size 432x288 with 1 Axes>"
      ]
     },
     "metadata": {
      "needs_background": "light"
     },
     "output_type": "display_data"
    }
   ],
   "source": [
    "x_values = Southern_Hemisphere[\"Lat\"]\n",
    "y_values = Southern_Hemisphere[\"Max Temp\"]\n",
    "\n",
    "#Calling linear_regression function\n",
    "line_eq = linear_regression(x_values, y_values)\n",
    "\n",
    "plt.annotate(line_eq,(-30,40),fontsize=15,color=\"red\")\n",
    "plt.title(\"Southern Hemisphere - Latitude Vs. Max Temp Linear Regression\")\n",
    "plt.xlabel('Latitude')\n",
    "plt.ylabel('Max Temp')\n",
    "\n",
    "plt.savefig(\"output_data/South_LatVsMaxTemp_regression_plot.png\")\n",
    "plt.tight_layout()\n",
    "plt.show()"
   ]
  },
  {
   "cell_type": "markdown",
   "metadata": {},
   "source": [
    "### North & Southern Hemispheres - Max Temp vs. Latitude Linear Regression Insights\n",
    "\n",
    "The regression plots for both the hemispheres show there is a strong correlation between Latitude and temperatures.\n",
    "The plot shows that there is an increase of temperature as the latitude approaches zero(ie., equator). "
   ]
  },
  {
   "cell_type": "markdown",
   "metadata": {},
   "source": [
    "####  Northern Hemisphere - Humidity (%) vs. Latitude Linear Regression"
   ]
  },
  {
   "cell_type": "code",
   "execution_count": 25,
   "metadata": {},
   "outputs": [
    {
     "name": "stdout",
     "output_type": "stream",
     "text": [
      "The r-value is: -0.08518654525885636\n"
     ]
    },
    {
     "data": {
      "image/png": "[encoded data removed]",
      "text/plain": [
       "<Figure size 432x288 with 1 Axes>"
      ]
     },
     "metadata": {
      "needs_background": "light"
     },
     "output_type": "display_data"
    }
   ],
   "source": [
    "x_values = Northern_Hemisphere[\"Lat\"]\n",
    "y_values = Northern_Hemisphere[\"Humidity\"]\n",
    "\n",
    "#Calling linear_regression function\n",
    "line_eq = linear_regression(x_values, y_values)\n",
    "\n",
    "plt.annotate(line_eq,(0,20),fontsize=15,color=\"red\")\n",
    "plt.title(\"Northern Hemisphere - Humidity (%) vs. Latitude Linear Regression\")\n",
    "plt.xlabel('Latitude')\n",
    "plt.ylabel('Humidity')\n",
    "\n",
    "plt.savefig(\"output_data/North_LatVsHumidity_regression_plot.png\")\n",
    "plt.tight_layout()\n",
    "plt.show()"
   ]
  },
  {
   "cell_type": "markdown",
   "metadata": {},
   "source": [
    "####  Southern Hemisphere - Humidity (%) vs. Latitude Linear Regression"
   ]
  },
  {
   "cell_type": "code",
   "execution_count": 26,
   "metadata": {},
   "outputs": [
    {
     "name": "stdout",
     "output_type": "stream",
     "text": [
      "The r-value is: -0.20032087049589484\n"
     ]
    },
    {
     "data": {
      "image/png": "[encoded data removed]",
      "text/plain": [
       "<Figure size 432x288 with 1 Axes>"
      ]
     },
     "metadata": {
      "needs_background": "light"
     },
     "output_type": "display_data"
    }
   ],
   "source": [
    "x_values = Southern_Hemisphere[\"Lat\"]\n",
    "y_values = Southern_Hemisphere[\"Humidity\"]\n",
    "\n",
    "#Calling linear_regression function\n",
    "line_eq = linear_regression(x_values, y_values)\n",
    "\n",
    "plt.annotate(line_eq,(-50,30),fontsize=15,color=\"red\")\n",
    "plt.title(\"Southern Hemisphere - Humidity (%) vs. Latitude Linear Regression\")\n",
    "plt.xlabel('Latitude')\n",
    "plt.ylabel('Humidity')\n",
    "\n",
    "plt.savefig(\"output_data/South_LatVsHumidity_regression_plot.png\")\n",
    "plt.tight_layout()\n",
    "plt.show()"
   ]
  },
  {
   "cell_type": "markdown",
   "metadata": {},
   "source": [
    "### North & Southern Hemisphere - Humidity (%) vs. Latitude Linear Regression Insights\n",
    "\n",
    "Both the regression plots show that there is no correlation between Latitude and Humidity."
   ]
  },
  {
   "cell_type": "markdown",
   "metadata": {},
   "source": [
    "####  Northern Hemisphere - Cloudiness (%) vs. Latitude Linear Regression"
   ]
  },
  {
   "cell_type": "code",
   "execution_count": 27,
   "metadata": {},
   "outputs": [
    {
     "name": "stdout",
     "output_type": "stream",
     "text": [
      "The r-value is: -0.03553915847087977\n"
     ]
    },
    {
     "data": {
      "image/png": "[encoded data removed]",
      "text/plain": [
       "<Figure size 432x288 with 1 Axes>"
      ]
     },
     "metadata": {
      "needs_background": "light"
     },
     "output_type": "display_data"
    }
   ],
   "source": [
    "x_values = Northern_Hemisphere[\"Lat\"]\n",
    "y_values = Northern_Hemisphere[\"Cloudiness\"]\n",
    "\n",
    "#Calling linear_regression function\n",
    "line_eq = linear_regression(x_values, y_values)\n",
    "\n",
    "plt.annotate(line_eq,(0,10),fontsize=15,color=\"red\")\n",
    "plt.title(\"Northern Hemisphere - Cloudiness (%) vs. Latitude Linear Regression\")\n",
    "plt.xlabel('Latitude')\n",
    "plt.ylabel('Cloudiness')\n",
    "\n",
    "plt.savefig(\"output_data/North_LatVsCloudiness_regression_plot.png\")\n",
    "plt.tight_layout()\n",
    "plt.show()"
   ]
  },
  {
   "cell_type": "markdown",
   "metadata": {},
   "source": [
    "####  Southern Hemisphere - Cloudiness (%) vs. Latitude Linear Regression"
   ]
  },
  {
   "cell_type": "code",
   "execution_count": 28,
   "metadata": {},
   "outputs": [
    {
     "name": "stdout",
     "output_type": "stream",
     "text": [
      "The r-value is: -0.049715805855665395\n"
     ]
    },
    {
     "data": {
      "image/png": "[encoded data removed]",
      "text/plain": [
       "<Figure size 432x288 with 1 Axes>"
      ]
     },
     "metadata": {
      "needs_background": "light"
     },
     "output_type": "display_data"
    }
   ],
   "source": [
    "x_values = Southern_Hemisphere[\"Lat\"]\n",
    "y_values = Southern_Hemisphere[\"Cloudiness\"]\n",
    "\n",
    "#Calling linear_regression function\n",
    "line_eq = linear_regression(x_values, y_values)\n",
    "\n",
    "plt.annotate(line_eq,(-50,10),fontsize=15,color=\"red\")\n",
    "plt.title(\"Southern Hemisphere - Cloudiness (%) vs. Latitude Linear Regression\")\n",
    "plt.xlabel('Latitude')\n",
    "plt.ylabel('Cloudiness')\n",
    "\n",
    "plt.savefig(\"output_data/South_LatVsCloudiness_regression_plot.png\")\n",
    "plt.tight_layout()\n",
    "plt.show()"
   ]
  },
  {
   "cell_type": "markdown",
   "metadata": {},
   "source": [
    "### North & Southern Hemisphere - Cloudiness (%) vs. Latitude Linear Regression Insights\n",
    "\n",
    "Both the regression plots show that there is no correlation between Latitude and Cloudiness."
   ]
  },
  {
   "cell_type": "markdown",
   "metadata": {},
   "source": [
    "####  Northern Hemisphere - Wind Speed (mph) vs. Latitude Linear Regression"
   ]
  },
  {
   "cell_type": "code",
   "execution_count": 29,
   "metadata": {},
   "outputs": [
    {
     "name": "stdout",
     "output_type": "stream",
     "text": [
      "The r-value is: 0.05379771806005203\n"
     ]
    },
    {
     "data": {
      "image/png": "[encoded data removed]",
      "text/plain": [
       "<Figure size 432x288 with 1 Axes>"
      ]
     },
     "metadata": {
      "needs_background": "light"
     },
     "output_type": "display_data"
    }
   ],
   "source": [
    "x_values = Northern_Hemisphere[\"Lat\"]\n",
    "y_values = Northern_Hemisphere[\"Wind Speed\"]\n",
    "\n",
    "#Calling linear_regression function\n",
    "line_eq = linear_regression(x_values, y_values)\n",
    "\n",
    "plt.annotate(line_eq,(30,25),fontsize=15,color=\"red\")\n",
    "plt.title(\"Northern Hemisphere - Wind Speed (mph) vs. Latitude Linear Regression\")\n",
    "plt.xlabel('Latitude')\n",
    "plt.ylabel('Wind Speed')\n",
    "\n",
    "plt.savefig(\"output_data/North_LatVsWindSpeed_regression_plot.png\")\n",
    "plt.tight_layout()\n",
    "plt.show()"
   ]
  },
  {
   "cell_type": "markdown",
   "metadata": {},
   "source": [
    "####  Southern Hemisphere - Wind Speed (mph) vs. Latitude Linear Regression"
   ]
  },
  {
   "cell_type": "code",
   "execution_count": 30,
   "metadata": {},
   "outputs": [
    {
     "name": "stdout",
     "output_type": "stream",
     "text": [
      "The r-value is: -0.14199530210012642\n"
     ]
    },
    {
     "data": {
      "image/png": "[encoded data removed]",
      "text/plain": [
       "<Figure size 432x288 with 1 Axes>"
      ]
     },
     "metadata": {
      "needs_background": "light"
     },
     "output_type": "display_data"
    }
   ],
   "source": [
    "x_values = Southern_Hemisphere[\"Lat\"]\n",
    "y_values = Southern_Hemisphere[\"Wind Speed\"]\n",
    "\n",
    "#Calling linear_regression function\n",
    "line_eq = linear_regression(x_values, y_values)\n",
    "\n",
    "plt.annotate(line_eq,(-50,0),fontsize=15,color=\"red\")\n",
    "plt.title(\"Southern Hemisphere - Wind Speed (mph) vs. Latitude Linear Regression\")\n",
    "plt.xlabel('Latitude')\n",
    "plt.ylabel('Wind Speed')\n",
    "\n",
    "plt.savefig(\"output_data/South_LatVsWindSpeed_regression_plot.png\")\n",
    "plt.tight_layout()\n",
    "plt.show()"
   ]
  },
  {
   "cell_type": "markdown",
   "metadata": {},
   "source": [
    "### Northern & Southern Hemispheres - Wind Speed (mph) vs. Latitude Linear Regression Insights\n",
    "\n",
    "Both the regression plots show that there is no correlation between Latitude and Wind Speed."
   ]
  }
 ],
 "metadata": {
  "anaconda-cloud": {},
  "kernel_info": {
   "name": "python3"
  },
  "kernelspec": {
   "display_name": "Python 3 (ipykernel)",
   "language": "python",
   "name": "python3"
  },
  "language_info": {
   "codemirror_mode": {
    "name": "ipython",
    "version": 3
   },
   "file_extension": ".py",
   "mimetype": "text/x-python",
   "name": "python",
   "nbconvert_exporter": "python",
   "pygments_lexer": "ipython3",
   "version": "3.9.12"
  },
  "latex_envs": {
   "LaTeX_envs_menu_present": true,
   "autoclose": false,
   "autocomplete": true,
   "bibliofile": "biblio.bib",
   "cite_by": "apalike",
   "current_citInitial": 1,
   "eqLabelWithNumbers": true,
   "eqNumInitial": 1,
   "hotkeys": {
    "equation": "Ctrl-E",
    "itemize": "Ctrl-I"
   },
   "labels_anchors": false,
   "latex_user_defs": false,
   "report_style_numbering": false,
   "user_envs_cfg": false
  },
  "nteract": {
   "version": "0.12.3"
  }
 },
 "nbformat": 4,
 "nbformat_minor": 2
}
