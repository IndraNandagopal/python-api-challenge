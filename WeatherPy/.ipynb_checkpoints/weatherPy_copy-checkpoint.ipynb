{
 "cells": [
  {
   "cell_type": "markdown",
   "metadata": {},
   "source": [
    "# WeatherPy\n",
    "----\n",
    "\n",
    "#### Note\n",
    "* Instructions have been included for each segment. You do not have to follow them exactly, but they are included to help you think through the steps."
   ]
  },
  {
   "cell_type": "code",
   "execution_count": 1,
   "metadata": {},
   "outputs": [
    {
     "name": "stdout",
     "output_type": "stream",
     "text": [
      "Requirement already satisfied: citipy in c:\\users\\indra\\anaconda3\\lib\\site-packages (0.0.5)\n",
      "Requirement already satisfied: kdtree>=0.12 in c:\\users\\indra\\anaconda3\\lib\\site-packages (from citipy) (0.16)\n",
      "Note: you may need to restart the kernel to use updated packages.\n"
     ]
    }
   ],
   "source": [
    "#pip install citipy"
   ]
  },
  {
   "cell_type": "code",
   "execution_count": 99,
   "metadata": {
    "scrolled": true
   },
   "outputs": [],
   "source": [
    "# Dependencies and Setup\n",
    "import matplotlib.pyplot as plt\n",
    "import pandas as pd\n",
    "import numpy as np\n",
    "import requests\n",
    "import time\n",
    "import datetime\n",
    "import scipy.stats as st\n",
    "from scipy.stats import linregress\n",
    "from pprint import pprint\n",
    "\n",
    "# Import API key\n",
    "from api_keys import weather_api_key\n",
    "\n",
    "# Incorporated citipy to determine city based on latitude and longitude\n",
    "from citipy import citipy\n",
    "\n",
    "# Output File (CSV)\n",
    "output_data_file = \"output_data/cities.csv\"\n",
    "\n",
    "# Range of latitudes and longitudes\n",
    "lat_range = (-90, 90)\n",
    "lng_range = (-180, 180)"
   ]
  },
  {
   "cell_type": "markdown",
   "metadata": {},
   "source": [
    "## Generate Cities List"
   ]
  },
  {
   "cell_type": "code",
   "execution_count": 2,
   "metadata": {},
   "outputs": [
    {
     "name": "stdout",
     "output_type": "stream",
     "text": [
      "615\n"
     ]
    }
   ],
   "source": [
    "# List for holding lat_lngs and cities\n",
    "lat_lngs = []\n",
    "cities = []\n",
    "\n",
    "# Create a set of random lat and lng combinations\n",
    "lats = np.random.uniform(lat_range[0], lat_range[1], size=1500)\n",
    "lngs = np.random.uniform(lng_range[0], lng_range[1], size=1500)\n",
    "lat_lngs = zip(lats, lngs)\n",
    "\n",
    "# Identify nearest city for each lat, lng combination\n",
    "for lat_lng in lat_lngs:\n",
    "    city = citipy.nearest_city(lat_lng[0], lat_lng[1]).city_name\n",
    "    \n",
    "    # If the city is unique, then add it to a our cities list\n",
    "    if city not in cities:\n",
    "        cities.append(city)\n",
    "\n",
    "# Print the city count to confirm sufficient count\n",
    "Tot_No_of_cities = len(cities)\n",
    "print(Tot_No_of_cities)\n"
   ]
  },
  {
   "cell_type": "markdown",
   "metadata": {},
   "source": [
    "### Perform API Calls\n",
    "* Perform a weather check on each city using a series of successive API calls.\n",
    "* Include a print log of each city as it'sbeing processed (with the city number and city name).\n"
   ]
  },
  {
   "cell_type": "code",
   "execution_count": 3,
   "metadata": {
    "scrolled": true
   },
   "outputs": [
    {
     "name": "stdout",
     "output_type": "stream",
     "text": [
      "Beginning Data Retrieval\n",
      "-----------------------------\n",
      "'Processing Record of 0 of Set 1 | andilamena'\n",
      "'Processing Record of 1 of Set 1 | rikitea'\n",
      "'Processing Record of 2 of Set 1 | hithadhoo'\n",
      "'Processing Record of 3 of Set 1 | qasigiannguit'\n",
      "'Processing Record of 4 of Set 1 | hobart'\n",
      "'Processing Record of 5 of Set 1 | cape town'\n",
      "'Processing Record of 6 of Set 1 | albany'\n",
      "'Processing Record of 7 of Set 1 | taolanaro'\n",
      "'City not found. Skipping... '\n",
      "'Processing Record of 8 of Set 1 | mataura'\n",
      "'Processing Record of 9 of Set 1 | hobyo'\n",
      "'Processing Record of 10 of Set 1 | lebu'\n",
      "'Processing Record of 11 of Set 1 | carnarvon'\n",
      "'Processing Record of 12 of Set 1 | shaki'\n",
      "'Processing Record of 13 of Set 1 | vaini'\n",
      "'Processing Record of 14 of Set 1 | kemijarvi'\n",
      "'Processing Record of 15 of Set 1 | jamestown'\n",
      "'Processing Record of 16 of Set 1 | puerto ayora'\n",
      "'Processing Record of 17 of Set 1 | igarka'\n",
      "'Processing Record of 18 of Set 1 | bluff'\n",
      "'Processing Record of 19 of Set 1 | nikolskoye'\n",
      "'Processing Record of 20 of Set 1 | chuy'\n",
      "'Processing Record of 21 of Set 1 | ushuaia'\n",
      "'Processing Record of 22 of Set 1 | shubarshi'\n",
      "'Processing Record of 23 of Set 1 | ambilobe'\n",
      "'Processing Record of 24 of Set 1 | kahului'\n",
      "'Processing Record of 25 of Set 1 | vestmannaeyjar'\n",
      "'Processing Record of 26 of Set 1 | geraldton'\n",
      "'Processing Record of 27 of Set 1 | stoyba'\n",
      "'City not found. Skipping... '\n",
      "'Processing Record of 28 of Set 1 | pechenga'\n",
      "'Processing Record of 29 of Set 1 | busselton'\n",
      "'Processing Record of 30 of Set 1 | port alfred'\n",
      "'Processing Record of 31 of Set 1 | levelland'\n",
      "'Processing Record of 32 of Set 1 | airai'\n",
      "'Processing Record of 33 of Set 1 | quatre cocos'\n",
      "'Processing Record of 34 of Set 1 | saskylakh'\n",
      "'Processing Record of 35 of Set 1 | buala'\n",
      "'Processing Record of 36 of Set 1 | nanyang'\n",
      "'Processing Record of 37 of Set 1 | faanui'\n",
      "'Processing Record of 38 of Set 1 | sandpoint'\n",
      "'Processing Record of 39 of Set 1 | barentsburg'\n",
      "'City not found. Skipping... '\n",
      "'Processing Record of 40 of Set 1 | gigmoto'\n",
      "'Processing Record of 41 of Set 1 | cradock'\n",
      "'Processing Record of 42 of Set 1 | katsuura'\n",
      "'Processing Record of 43 of Set 1 | castro'\n",
      "'Processing Record of 44 of Set 1 | hilo'\n",
      "'Processing Record of 45 of Set 1 | dingle'\n",
      "'Processing Record of 46 of Set 1 | anloga'\n",
      "'Processing Record of 47 of Set 1 | ancud'\n",
      "'Processing Record of 48 of Set 1 | yellowknife'\n",
      "'Processing Record of 49 of Set 1 | grand gaube'\n",
      "'Processing Record of 0 of Set 2 | kapaa'\n",
      "'Processing Record of 1 of Set 2 | kolobrzeg'\n",
      "'Processing Record of 2 of Set 2 | illoqqortoormiut'\n",
      "'City not found. Skipping... '\n",
      "'Processing Record of 3 of Set 2 | grand river south east'\n",
      "'City not found. Skipping... '\n",
      "'Processing Record of 4 of Set 2 | batemans bay'\n",
      "'Processing Record of 5 of Set 2 | norman wells'\n",
      "-----------------------------\n",
      "Data Retrieval Complete\n",
      "-----------------------------\n"
     ]
    }
   ],
   "source": [
    "url = \"http://api.openweathermap.org/data/2.5/weather?\"\n",
    "units = \"imperial\"\n",
    "\n",
    "query_url = f\"{url}appid={weather_api_key}&units={units}&q=\"\n",
    "\n",
    "# Build Dataframe\n",
    "weather_checkDF = pd.DataFrame({\"City\": cities})\n",
    "\n",
    "weather_checkDF[\"Lat\"] = \"\"\n",
    "weather_checkDF[\"Lng\"] = \"\"\n",
    "weather_checkDF[\"Max Temp\"] = \"\"\n",
    "weather_checkDF[\"Humidity\"] = \"\"\n",
    "weather_checkDF[\"Cloudiness\"] = \"\"\n",
    "weather_checkDF[\"Wind Speed\"] = \"\"\n",
    "weather_checkDF[\"Country\"] = \"\"\n",
    "weather_checkDF[\"Date\"] = \"\"\n",
    "weather_checkDF\n",
    "\n",
    "\n",
    "cityCounter = 0\n",
    "loopCounter = 1\n",
    "\n",
    "print(\"Beginning Data Retrieval\")\n",
    "print(\"-----------------------------\")\n",
    "                \n",
    "for i, row in weather_checkDF.iterrows():\n",
    "   \n",
    "    city = row[\"City\"] \n",
    "    \n",
    "    response = requests.get(query_url + city).json()\n",
    "    #pprint(response) \n",
    "\n",
    "    try:\n",
    "        pprint(f\"Processing Record of {cityCounter} of Set {loopCounter} | {city}\")\n",
    "        \n",
    "        weather_checkDF.loc[i, \"Country\"] = response[\"sys\"][\"country\"]\n",
    "        #weather_checkDF.loc[i, \"Date\"] = datetime.datetime.fromtimestamp(response[\"dt\"])\n",
    "        weather_checkDF.loc[i, \"Date\"] = response[\"dt\"]\n",
    "        weather_checkDF.loc[i, \"Lat\"] = response[\"coord\"][\"lat\"]\n",
    "        weather_checkDF.loc[i, \"Lng\"] = response[\"coord\"][\"lon\"]\n",
    "        weather_checkDF.loc[i, \"Max Temp\"] = response[\"main\"][\"temp_max\"]\n",
    "        weather_checkDF.loc[i, \"Humidity\"] = response[\"main\"][\"humidity\"]\n",
    "        weather_checkDF.loc[i, \"Cloudiness\"] = response[\"clouds\"][\"all\"]\n",
    "        weather_checkDF.loc[i, \"Wind Speed\"] = response[\"wind\"][\"speed\"]             \n",
    "     \n",
    "    except:            \n",
    "        pprint(f\"City not found. Skipping... \")\n",
    "        weather_checkDF.drop(index=i, inplace=True)\n",
    "    \n",
    "    if i == 55:\n",
    "        break\n",
    "        \n",
    "    cityCounter += 1\n",
    "    if cityCounter == 50:\n",
    "        cityCounter = 0\n",
    "        loopCounter += 1\n",
    "    \n",
    "print(\"-----------------------------\")                \n",
    "print(\"Data Retrieval Complete\")      \n",
    "print(\"-----------------------------\")\n"
   ]
  },
  {
   "cell_type": "markdown",
   "metadata": {},
   "source": [
    "### Convert Raw Data to DataFrame\n",
    "* Export the city data into a .csv.\n",
    "* Display the DataFrame"
   ]
  },
  {
   "cell_type": "code",
   "execution_count": 4,
   "metadata": {
    "scrolled": false
   },
   "outputs": [
    {
     "data": {
      "text/html": [
       "<div>\n",
       "<style scoped>\n",
       "    .dataframe tbody tr th:only-of-type {\n",
       "        vertical-align: middle;\n",
       "    }\n",
       "\n",
       "    .dataframe tbody tr th {\n",
       "        vertical-align: top;\n",
       "    }\n",
       "\n",
       "    .dataframe thead th {\n",
       "        text-align: right;\n",
       "    }\n",
       "</style>\n",
       "<table border=\"1\" class=\"dataframe\">\n",
       "  <thead>\n",
       "    <tr style=\"text-align: right;\">\n",
       "      <th></th>\n",
       "      <th>City</th>\n",
       "      <th>Lat</th>\n",
       "      <th>Lng</th>\n",
       "      <th>Max Temp</th>\n",
       "      <th>Humidity</th>\n",
       "      <th>Cloudiness</th>\n",
       "      <th>Wind Speed</th>\n",
       "      <th>Country</th>\n",
       "      <th>Date</th>\n",
       "    </tr>\n",
       "  </thead>\n",
       "  <tbody>\n",
       "    <tr>\n",
       "      <th>0</th>\n",
       "      <td>andilamena</td>\n",
       "      <td>-17.0167</td>\n",
       "      <td>48.5833</td>\n",
       "      <td>57.58</td>\n",
       "      <td>95</td>\n",
       "      <td>100</td>\n",
       "      <td>6.64</td>\n",
       "      <td>MG</td>\n",
       "      <td>1658554670</td>\n",
       "    </tr>\n",
       "    <tr>\n",
       "      <th>1</th>\n",
       "      <td>rikitea</td>\n",
       "      <td>-23.1203</td>\n",
       "      <td>-134.9692</td>\n",
       "      <td>72.68</td>\n",
       "      <td>69</td>\n",
       "      <td>9</td>\n",
       "      <td>8.97</td>\n",
       "      <td>PF</td>\n",
       "      <td>1658554671</td>\n",
       "    </tr>\n",
       "    <tr>\n",
       "      <th>2</th>\n",
       "      <td>hithadhoo</td>\n",
       "      <td>-0.6</td>\n",
       "      <td>73.0833</td>\n",
       "      <td>82.4</td>\n",
       "      <td>72</td>\n",
       "      <td>99</td>\n",
       "      <td>5.84</td>\n",
       "      <td>MV</td>\n",
       "      <td>1658554671</td>\n",
       "    </tr>\n",
       "    <tr>\n",
       "      <th>3</th>\n",
       "      <td>qasigiannguit</td>\n",
       "      <td>68.8193</td>\n",
       "      <td>-51.1922</td>\n",
       "      <td>46.65</td>\n",
       "      <td>97</td>\n",
       "      <td>100</td>\n",
       "      <td>3.94</td>\n",
       "      <td>GL</td>\n",
       "      <td>1658554671</td>\n",
       "    </tr>\n",
       "    <tr>\n",
       "      <th>4</th>\n",
       "      <td>hobart</td>\n",
       "      <td>-42.8794</td>\n",
       "      <td>147.3294</td>\n",
       "      <td>58.26</td>\n",
       "      <td>68</td>\n",
       "      <td>100</td>\n",
       "      <td>4</td>\n",
       "      <td>AU</td>\n",
       "      <td>1658554672</td>\n",
       "    </tr>\n",
       "  </tbody>\n",
       "</table>\n",
       "</div>"
      ],
      "text/plain": [
       "            City      Lat       Lng Max Temp Humidity Cloudiness Wind Speed  \\\n",
       "0     andilamena -17.0167   48.5833    57.58       95        100       6.64   \n",
       "1        rikitea -23.1203 -134.9692    72.68       69          9       8.97   \n",
       "2      hithadhoo     -0.6   73.0833     82.4       72         99       5.84   \n",
       "3  qasigiannguit  68.8193  -51.1922    46.65       97        100       3.94   \n",
       "4         hobart -42.8794  147.3294    58.26       68        100          4   \n",
       "\n",
       "  Country        Date  \n",
       "0      MG  1658554670  \n",
       "1      PF  1658554671  \n",
       "2      MV  1658554671  \n",
       "3      GL  1658554671  \n",
       "4      AU  1658554672  "
      ]
     },
     "execution_count": 4,
     "metadata": {},
     "output_type": "execute_result"
    }
   ],
   "source": [
    "#weather_checkDF.to_csv(\"output_data/weatherdata.csv\", index = False)\n",
    "weather_checkDF.to_csv(output_data_file)\n",
    "weather_checkDF.head(5)\n"
   ]
  },
  {
   "cell_type": "code",
   "execution_count": 5,
   "metadata": {},
   "outputs": [
    {
     "data": {
      "text/plain": [
       "City          object\n",
       "Lat           object\n",
       "Lng           object\n",
       "Max Temp      object\n",
       "Humidity      object\n",
       "Cloudiness    object\n",
       "Wind Speed    object\n",
       "Country       object\n",
       "Date          object\n",
       "dtype: object"
      ]
     },
     "execution_count": 5,
     "metadata": {},
     "output_type": "execute_result"
    }
   ],
   "source": [
    "weather_checkDF.dtypes"
   ]
  },
  {
   "cell_type": "code",
   "execution_count": 51,
   "metadata": {},
   "outputs": [
    {
     "data": {
      "text/html": [
       "<div>\n",
       "<style scoped>\n",
       "    .dataframe tbody tr th:only-of-type {\n",
       "        vertical-align: middle;\n",
       "    }\n",
       "\n",
       "    .dataframe tbody tr th {\n",
       "        vertical-align: top;\n",
       "    }\n",
       "\n",
       "    .dataframe thead th {\n",
       "        text-align: right;\n",
       "    }\n",
       "</style>\n",
       "<table border=\"1\" class=\"dataframe\">\n",
       "  <thead>\n",
       "    <tr style=\"text-align: right;\">\n",
       "      <th></th>\n",
       "      <th>City</th>\n",
       "      <th>Lat</th>\n",
       "      <th>Lng</th>\n",
       "      <th>Max Temp</th>\n",
       "      <th>Humidity</th>\n",
       "      <th>Cloudiness</th>\n",
       "      <th>Wind Speed</th>\n",
       "      <th>Country</th>\n",
       "      <th>Date</th>\n",
       "    </tr>\n",
       "  </thead>\n",
       "  <tbody>\n",
       "    <tr>\n",
       "      <th>0</th>\n",
       "      <td>andilamena</td>\n",
       "      <td>-17.0167</td>\n",
       "      <td>48.5833</td>\n",
       "      <td>57.58</td>\n",
       "      <td>105</td>\n",
       "      <td>100</td>\n",
       "      <td>6.64</td>\n",
       "      <td>MG</td>\n",
       "      <td>1658554670</td>\n",
       "    </tr>\n",
       "    <tr>\n",
       "      <th>1</th>\n",
       "      <td>rikitea</td>\n",
       "      <td>-23.1203</td>\n",
       "      <td>-134.9692</td>\n",
       "      <td>72.68</td>\n",
       "      <td>69</td>\n",
       "      <td>9</td>\n",
       "      <td>8.97</td>\n",
       "      <td>PF</td>\n",
       "      <td>1658554671</td>\n",
       "    </tr>\n",
       "    <tr>\n",
       "      <th>2</th>\n",
       "      <td>hithadhoo</td>\n",
       "      <td>-0.6000</td>\n",
       "      <td>73.0833</td>\n",
       "      <td>82.40</td>\n",
       "      <td>72</td>\n",
       "      <td>99</td>\n",
       "      <td>5.84</td>\n",
       "      <td>MV</td>\n",
       "      <td>1658554671</td>\n",
       "    </tr>\n",
       "    <tr>\n",
       "      <th>3</th>\n",
       "      <td>qasigiannguit</td>\n",
       "      <td>68.8193</td>\n",
       "      <td>-51.1922</td>\n",
       "      <td>46.65</td>\n",
       "      <td>97</td>\n",
       "      <td>100</td>\n",
       "      <td>3.94</td>\n",
       "      <td>GL</td>\n",
       "      <td>1658554671</td>\n",
       "    </tr>\n",
       "    <tr>\n",
       "      <th>4</th>\n",
       "      <td>hobart</td>\n",
       "      <td>-42.8794</td>\n",
       "      <td>147.3294</td>\n",
       "      <td>58.26</td>\n",
       "      <td>68</td>\n",
       "      <td>100</td>\n",
       "      <td>4.00</td>\n",
       "      <td>AU</td>\n",
       "      <td>1658554672</td>\n",
       "    </tr>\n",
       "    <tr>\n",
       "      <th>5</th>\n",
       "      <td>cape town</td>\n",
       "      <td>-33.9258</td>\n",
       "      <td>18.4232</td>\n",
       "      <td>54.10</td>\n",
       "      <td>89</td>\n",
       "      <td>20</td>\n",
       "      <td>5.01</td>\n",
       "      <td>ZA</td>\n",
       "      <td>1658554546</td>\n",
       "    </tr>\n",
       "    <tr>\n",
       "      <th>6</th>\n",
       "      <td>albany</td>\n",
       "      <td>42.6001</td>\n",
       "      <td>-73.9662</td>\n",
       "      <td>70.57</td>\n",
       "      <td>107</td>\n",
       "      <td>35</td>\n",
       "      <td>2.84</td>\n",
       "      <td>US</td>\n",
       "      <td>1658554376</td>\n",
       "    </tr>\n",
       "    <tr>\n",
       "      <th>7</th>\n",
       "      <td>mataura</td>\n",
       "      <td>-46.1927</td>\n",
       "      <td>168.8643</td>\n",
       "      <td>43.48</td>\n",
       "      <td>94</td>\n",
       "      <td>3</td>\n",
       "      <td>3.04</td>\n",
       "      <td>NZ</td>\n",
       "      <td>1658554673</td>\n",
       "    </tr>\n",
       "    <tr>\n",
       "      <th>8</th>\n",
       "      <td>hobyo</td>\n",
       "      <td>5.3505</td>\n",
       "      <td>48.5268</td>\n",
       "      <td>81.21</td>\n",
       "      <td>59</td>\n",
       "      <td>19</td>\n",
       "      <td>24.54</td>\n",
       "      <td>SO</td>\n",
       "      <td>1658554673</td>\n",
       "    </tr>\n",
       "    <tr>\n",
       "      <th>9</th>\n",
       "      <td>lebu</td>\n",
       "      <td>-37.6167</td>\n",
       "      <td>-73.6500</td>\n",
       "      <td>53.06</td>\n",
       "      <td>95</td>\n",
       "      <td>100</td>\n",
       "      <td>14.27</td>\n",
       "      <td>CL</td>\n",
       "      <td>1658554674</td>\n",
       "    </tr>\n",
       "    <tr>\n",
       "      <th>10</th>\n",
       "      <td>carnarvon</td>\n",
       "      <td>-24.8667</td>\n",
       "      <td>113.6333</td>\n",
       "      <td>69.31</td>\n",
       "      <td>52</td>\n",
       "      <td>44</td>\n",
       "      <td>14.27</td>\n",
       "      <td>AU</td>\n",
       "      <td>1658554674</td>\n",
       "    </tr>\n",
       "    <tr>\n",
       "      <th>11</th>\n",
       "      <td>shaki</td>\n",
       "      <td>41.0833</td>\n",
       "      <td>47.1667</td>\n",
       "      <td>76.10</td>\n",
       "      <td>61</td>\n",
       "      <td>80</td>\n",
       "      <td>1.34</td>\n",
       "      <td>AZ</td>\n",
       "      <td>1658554674</td>\n",
       "    </tr>\n",
       "    <tr>\n",
       "      <th>12</th>\n",
       "      <td>vaini</td>\n",
       "      <td>-21.2000</td>\n",
       "      <td>-175.2000</td>\n",
       "      <td>71.76</td>\n",
       "      <td>88</td>\n",
       "      <td>75</td>\n",
       "      <td>10.36</td>\n",
       "      <td>TO</td>\n",
       "      <td>1658554674</td>\n",
       "    </tr>\n",
       "    <tr>\n",
       "      <th>13</th>\n",
       "      <td>kemijarvi</td>\n",
       "      <td>66.7131</td>\n",
       "      <td>27.4306</td>\n",
       "      <td>61.61</td>\n",
       "      <td>55</td>\n",
       "      <td>100</td>\n",
       "      <td>3.87</td>\n",
       "      <td>FI</td>\n",
       "      <td>1658554675</td>\n",
       "    </tr>\n",
       "    <tr>\n",
       "      <th>14</th>\n",
       "      <td>jamestown</td>\n",
       "      <td>42.0970</td>\n",
       "      <td>-79.2353</td>\n",
       "      <td>72.72</td>\n",
       "      <td>83</td>\n",
       "      <td>0</td>\n",
       "      <td>4.61</td>\n",
       "      <td>US</td>\n",
       "      <td>1658554474</td>\n",
       "    </tr>\n",
       "    <tr>\n",
       "      <th>15</th>\n",
       "      <td>puerto ayora</td>\n",
       "      <td>-0.7393</td>\n",
       "      <td>-90.3518</td>\n",
       "      <td>69.55</td>\n",
       "      <td>90</td>\n",
       "      <td>29</td>\n",
       "      <td>4.00</td>\n",
       "      <td>EC</td>\n",
       "      <td>1658554675</td>\n",
       "    </tr>\n",
       "    <tr>\n",
       "      <th>16</th>\n",
       "      <td>igarka</td>\n",
       "      <td>67.4667</td>\n",
       "      <td>86.5833</td>\n",
       "      <td>76.23</td>\n",
       "      <td>44</td>\n",
       "      <td>3</td>\n",
       "      <td>16.35</td>\n",
       "      <td>RU</td>\n",
       "      <td>1658554675</td>\n",
       "    </tr>\n",
       "    <tr>\n",
       "      <th>17</th>\n",
       "      <td>bluff</td>\n",
       "      <td>-46.6000</td>\n",
       "      <td>168.3333</td>\n",
       "      <td>43.81</td>\n",
       "      <td>77</td>\n",
       "      <td>2</td>\n",
       "      <td>5.73</td>\n",
       "      <td>NZ</td>\n",
       "      <td>1658554676</td>\n",
       "    </tr>\n",
       "    <tr>\n",
       "      <th>18</th>\n",
       "      <td>nikolskoye</td>\n",
       "      <td>59.7035</td>\n",
       "      <td>30.7861</td>\n",
       "      <td>77.88</td>\n",
       "      <td>53</td>\n",
       "      <td>30</td>\n",
       "      <td>8.43</td>\n",
       "      <td>RU</td>\n",
       "      <td>1658554676</td>\n",
       "    </tr>\n",
       "    <tr>\n",
       "      <th>19</th>\n",
       "      <td>chuy</td>\n",
       "      <td>-33.6971</td>\n",
       "      <td>-53.4616</td>\n",
       "      <td>56.50</td>\n",
       "      <td>98</td>\n",
       "      <td>100</td>\n",
       "      <td>5.32</td>\n",
       "      <td>UY</td>\n",
       "      <td>1658554676</td>\n",
       "    </tr>\n",
       "  </tbody>\n",
       "</table>\n",
       "</div>"
      ],
      "text/plain": [
       "             City      Lat       Lng  Max Temp  Humidity  Cloudiness  \\\n",
       "0      andilamena -17.0167   48.5833     57.58       105         100   \n",
       "1         rikitea -23.1203 -134.9692     72.68        69           9   \n",
       "2       hithadhoo  -0.6000   73.0833     82.40        72          99   \n",
       "3   qasigiannguit  68.8193  -51.1922     46.65        97         100   \n",
       "4          hobart -42.8794  147.3294     58.26        68         100   \n",
       "5       cape town -33.9258   18.4232     54.10        89          20   \n",
       "6          albany  42.6001  -73.9662     70.57       107          35   \n",
       "7         mataura -46.1927  168.8643     43.48        94           3   \n",
       "8           hobyo   5.3505   48.5268     81.21        59          19   \n",
       "9            lebu -37.6167  -73.6500     53.06        95         100   \n",
       "10      carnarvon -24.8667  113.6333     69.31        52          44   \n",
       "11          shaki  41.0833   47.1667     76.10        61          80   \n",
       "12          vaini -21.2000 -175.2000     71.76        88          75   \n",
       "13      kemijarvi  66.7131   27.4306     61.61        55         100   \n",
       "14      jamestown  42.0970  -79.2353     72.72        83           0   \n",
       "15   puerto ayora  -0.7393  -90.3518     69.55        90          29   \n",
       "16         igarka  67.4667   86.5833     76.23        44           3   \n",
       "17          bluff -46.6000  168.3333     43.81        77           2   \n",
       "18     nikolskoye  59.7035   30.7861     77.88        53          30   \n",
       "19           chuy -33.6971  -53.4616     56.50        98         100   \n",
       "\n",
       "    Wind Speed Country        Date  \n",
       "0         6.64      MG  1658554670  \n",
       "1         8.97      PF  1658554671  \n",
       "2         5.84      MV  1658554671  \n",
       "3         3.94      GL  1658554671  \n",
       "4         4.00      AU  1658554672  \n",
       "5         5.01      ZA  1658554546  \n",
       "6         2.84      US  1658554376  \n",
       "7         3.04      NZ  1658554673  \n",
       "8        24.54      SO  1658554673  \n",
       "9        14.27      CL  1658554674  \n",
       "10       14.27      AU  1658554674  \n",
       "11        1.34      AZ  1658554674  \n",
       "12       10.36      TO  1658554674  \n",
       "13        3.87      FI  1658554675  \n",
       "14        4.61      US  1658554474  \n",
       "15        4.00      EC  1658554675  \n",
       "16       16.35      RU  1658554675  \n",
       "17        5.73      NZ  1658554676  \n",
       "18        8.43      RU  1658554676  \n",
       "19        5.32      UY  1658554676  "
      ]
     },
     "execution_count": 51,
     "metadata": {},
     "output_type": "execute_result"
    }
   ],
   "source": [
    "weather_checkDF = pd.read_csv(output_data_file)\n",
    "weather_checkDF.head(20)\n",
    "# convert data object to float\n"
   ]
  },
  {
   "cell_type": "code",
   "execution_count": 52,
   "metadata": {
    "scrolled": true
   },
   "outputs": [
    {
     "data": {
      "text/html": [
       "<div>\n",
       "<style scoped>\n",
       "    .dataframe tbody tr th:only-of-type {\n",
       "        vertical-align: middle;\n",
       "    }\n",
       "\n",
       "    .dataframe tbody tr th {\n",
       "        vertical-align: top;\n",
       "    }\n",
       "\n",
       "    .dataframe thead th {\n",
       "        text-align: right;\n",
       "    }\n",
       "</style>\n",
       "<table border=\"1\" class=\"dataframe\">\n",
       "  <thead>\n",
       "    <tr style=\"text-align: right;\">\n",
       "      <th></th>\n",
       "      <th>Lat</th>\n",
       "      <th>Lng</th>\n",
       "      <th>Max Temp</th>\n",
       "      <th>Humidity</th>\n",
       "      <th>Cloudiness</th>\n",
       "      <th>Wind Speed</th>\n",
       "      <th>Date</th>\n",
       "    </tr>\n",
       "  </thead>\n",
       "  <tbody>\n",
       "    <tr>\n",
       "      <th>count</th>\n",
       "      <td>51.000000</td>\n",
       "      <td>51.000000</td>\n",
       "      <td>51.000000</td>\n",
       "      <td>51.000000</td>\n",
       "      <td>51.000000</td>\n",
       "      <td>51.000000</td>\n",
       "      <td>5.100000e+01</td>\n",
       "    </tr>\n",
       "    <tr>\n",
       "      <th>mean</th>\n",
       "      <td>7.288475</td>\n",
       "      <td>10.832990</td>\n",
       "      <td>67.360392</td>\n",
       "      <td>72.352941</td>\n",
       "      <td>53.960784</td>\n",
       "      <td>8.397843</td>\n",
       "      <td>1.658555e+09</td>\n",
       "    </tr>\n",
       "    <tr>\n",
       "      <th>std</th>\n",
       "      <td>39.682113</td>\n",
       "      <td>103.076141</td>\n",
       "      <td>13.129449</td>\n",
       "      <td>17.350301</td>\n",
       "      <td>39.657010</td>\n",
       "      <td>6.254020</td>\n",
       "      <td>6.208100e+01</td>\n",
       "    </tr>\n",
       "    <tr>\n",
       "      <th>min</th>\n",
       "      <td>-54.800000</td>\n",
       "      <td>-175.200000</td>\n",
       "      <td>35.260000</td>\n",
       "      <td>35.000000</td>\n",
       "      <td>0.000000</td>\n",
       "      <td>0.000000</td>\n",
       "      <td>1.658554e+09</td>\n",
       "    </tr>\n",
       "    <tr>\n",
       "      <th>25%</th>\n",
       "      <td>-26.816700</td>\n",
       "      <td>-73.893250</td>\n",
       "      <td>57.355000</td>\n",
       "      <td>60.000000</td>\n",
       "      <td>17.500000</td>\n",
       "      <td>3.690000</td>\n",
       "      <td>1.658555e+09</td>\n",
       "    </tr>\n",
       "    <tr>\n",
       "      <th>50%</th>\n",
       "      <td>-0.600000</td>\n",
       "      <td>27.430600</td>\n",
       "      <td>69.550000</td>\n",
       "      <td>72.000000</td>\n",
       "      <td>58.000000</td>\n",
       "      <td>5.730000</td>\n",
       "      <td>1.658555e+09</td>\n",
       "    </tr>\n",
       "    <tr>\n",
       "      <th>75%</th>\n",
       "      <td>42.348550</td>\n",
       "      <td>113.083050</td>\n",
       "      <td>78.505000</td>\n",
       "      <td>86.000000</td>\n",
       "      <td>97.500000</td>\n",
       "      <td>12.010000</td>\n",
       "      <td>1.658555e+09</td>\n",
       "    </tr>\n",
       "    <tr>\n",
       "      <th>max</th>\n",
       "      <td>71.916700</td>\n",
       "      <td>168.864300</td>\n",
       "      <td>88.430000</td>\n",
       "      <td>107.000000</td>\n",
       "      <td>100.000000</td>\n",
       "      <td>24.540000</td>\n",
       "      <td>1.658555e+09</td>\n",
       "    </tr>\n",
       "  </tbody>\n",
       "</table>\n",
       "</div>"
      ],
      "text/plain": [
       "             Lat         Lng   Max Temp    Humidity  Cloudiness  Wind Speed  \\\n",
       "count  51.000000   51.000000  51.000000   51.000000   51.000000   51.000000   \n",
       "mean    7.288475   10.832990  67.360392   72.352941   53.960784    8.397843   \n",
       "std    39.682113  103.076141  13.129449   17.350301   39.657010    6.254020   \n",
       "min   -54.800000 -175.200000  35.260000   35.000000    0.000000    0.000000   \n",
       "25%   -26.816700  -73.893250  57.355000   60.000000   17.500000    3.690000   \n",
       "50%    -0.600000   27.430600  69.550000   72.000000   58.000000    5.730000   \n",
       "75%    42.348550  113.083050  78.505000   86.000000   97.500000   12.010000   \n",
       "max    71.916700  168.864300  88.430000  107.000000  100.000000   24.540000   \n",
       "\n",
       "               Date  \n",
       "count  5.100000e+01  \n",
       "mean   1.658555e+09  \n",
       "std    6.208100e+01  \n",
       "min    1.658554e+09  \n",
       "25%    1.658555e+09  \n",
       "50%    1.658555e+09  \n",
       "75%    1.658555e+09  \n",
       "max    1.658555e+09  "
      ]
     },
     "execution_count": 52,
     "metadata": {},
     "output_type": "execute_result"
    }
   ],
   "source": [
    "#weather_checkDF.dtypes\n",
    "weather_checkDF.describe()\n"
   ]
  },
  {
   "cell_type": "markdown",
   "metadata": {},
   "source": [
    "## Inspect the data and remove the cities where the humidity > 100%.\n",
    "----\n",
    "Skip this step if there are no cities that have humidity > 100%. "
   ]
  },
  {
   "cell_type": "code",
   "execution_count": 53,
   "metadata": {},
   "outputs": [],
   "source": [
    "#Check if max of Humidity > 100\n",
    "if weather_checkDF[\"Humidity\"].max() > 100:\n",
    "    Humidity_revisedData = weather_checkDF.loc[weather_checkDF[\"Humidity\"] <= 100]\n",
    "    Humidity_revisedData.head(5)\n",
    "    "
   ]
  },
  {
   "cell_type": "code",
   "execution_count": 54,
   "metadata": {},
   "outputs": [
    {
     "data": {
      "text/html": [
       "<div>\n",
       "<style scoped>\n",
       "    .dataframe tbody tr th:only-of-type {\n",
       "        vertical-align: middle;\n",
       "    }\n",
       "\n",
       "    .dataframe tbody tr th {\n",
       "        vertical-align: top;\n",
       "    }\n",
       "\n",
       "    .dataframe thead th {\n",
       "        text-align: right;\n",
       "    }\n",
       "</style>\n",
       "<table border=\"1\" class=\"dataframe\">\n",
       "  <thead>\n",
       "    <tr style=\"text-align: right;\">\n",
       "      <th></th>\n",
       "      <th>Lat</th>\n",
       "      <th>Lng</th>\n",
       "      <th>Max Temp</th>\n",
       "      <th>Humidity</th>\n",
       "      <th>Cloudiness</th>\n",
       "      <th>Wind Speed</th>\n",
       "      <th>Date</th>\n",
       "    </tr>\n",
       "  </thead>\n",
       "  <tbody>\n",
       "    <tr>\n",
       "      <th>count</th>\n",
       "      <td>50.000000</td>\n",
       "      <td>50.000000</td>\n",
       "      <td>50.000000</td>\n",
       "      <td>50.000000</td>\n",
       "      <td>50.000000</td>\n",
       "      <td>50.000000</td>\n",
       "      <td>5.000000e+01</td>\n",
       "    </tr>\n",
       "    <tr>\n",
       "      <th>mean</th>\n",
       "      <td>7.774578</td>\n",
       "      <td>10.077984</td>\n",
       "      <td>67.556000</td>\n",
       "      <td>71.360000</td>\n",
       "      <td>53.040000</td>\n",
       "      <td>8.433000</td>\n",
       "      <td>1.658555e+09</td>\n",
       "    </tr>\n",
       "    <tr>\n",
       "      <th>std</th>\n",
       "      <td>39.931305</td>\n",
       "      <td>103.980076</td>\n",
       "      <td>13.187465</td>\n",
       "      <td>16.317963</td>\n",
       "      <td>39.505081</td>\n",
       "      <td>6.312422</td>\n",
       "      <td>6.269500e+01</td>\n",
       "    </tr>\n",
       "    <tr>\n",
       "      <th>min</th>\n",
       "      <td>-54.800000</td>\n",
       "      <td>-175.200000</td>\n",
       "      <td>35.260000</td>\n",
       "      <td>35.000000</td>\n",
       "      <td>0.000000</td>\n",
       "      <td>0.000000</td>\n",
       "      <td>1.658554e+09</td>\n",
       "    </tr>\n",
       "    <tr>\n",
       "      <th>25%</th>\n",
       "      <td>-27.791700</td>\n",
       "      <td>-73.929725</td>\n",
       "      <td>57.372500</td>\n",
       "      <td>59.500000</td>\n",
       "      <td>16.750000</td>\n",
       "      <td>3.600000</td>\n",
       "      <td>1.658555e+09</td>\n",
       "    </tr>\n",
       "    <tr>\n",
       "      <th>50%</th>\n",
       "      <td>2.375250</td>\n",
       "      <td>27.160800</td>\n",
       "      <td>69.775000</td>\n",
       "      <td>72.000000</td>\n",
       "      <td>51.000000</td>\n",
       "      <td>5.685000</td>\n",
       "      <td>1.658555e+09</td>\n",
       "    </tr>\n",
       "    <tr>\n",
       "      <th>75%</th>\n",
       "      <td>42.474325</td>\n",
       "      <td>113.358175</td>\n",
       "      <td>78.617500</td>\n",
       "      <td>84.500000</td>\n",
       "      <td>97.000000</td>\n",
       "      <td>12.020000</td>\n",
       "      <td>1.658555e+09</td>\n",
       "    </tr>\n",
       "    <tr>\n",
       "      <th>max</th>\n",
       "      <td>71.916700</td>\n",
       "      <td>168.864300</td>\n",
       "      <td>88.430000</td>\n",
       "      <td>98.000000</td>\n",
       "      <td>100.000000</td>\n",
       "      <td>24.540000</td>\n",
       "      <td>1.658555e+09</td>\n",
       "    </tr>\n",
       "  </tbody>\n",
       "</table>\n",
       "</div>"
      ],
      "text/plain": [
       "             Lat         Lng   Max Temp   Humidity  Cloudiness  Wind Speed  \\\n",
       "count  50.000000   50.000000  50.000000  50.000000   50.000000   50.000000   \n",
       "mean    7.774578   10.077984  67.556000  71.360000   53.040000    8.433000   \n",
       "std    39.931305  103.980076  13.187465  16.317963   39.505081    6.312422   \n",
       "min   -54.800000 -175.200000  35.260000  35.000000    0.000000    0.000000   \n",
       "25%   -27.791700  -73.929725  57.372500  59.500000   16.750000    3.600000   \n",
       "50%     2.375250   27.160800  69.775000  72.000000   51.000000    5.685000   \n",
       "75%    42.474325  113.358175  78.617500  84.500000   97.000000   12.020000   \n",
       "max    71.916700  168.864300  88.430000  98.000000  100.000000   24.540000   \n",
       "\n",
       "               Date  \n",
       "count  5.000000e+01  \n",
       "mean   1.658555e+09  \n",
       "std    6.269500e+01  \n",
       "min    1.658554e+09  \n",
       "25%    1.658555e+09  \n",
       "50%    1.658555e+09  \n",
       "75%    1.658555e+09  \n",
       "max    1.658555e+09  "
      ]
     },
     "execution_count": 54,
     "metadata": {},
     "output_type": "execute_result"
    }
   ],
   "source": [
    "Humidity_check.describe()"
   ]
  },
  {
   "cell_type": "code",
   "execution_count": 58,
   "metadata": {},
   "outputs": [
    {
     "data": {
      "text/plain": [
       "Int64Index([0, 6], dtype='int64')"
      ]
     },
     "execution_count": 58,
     "metadata": {},
     "output_type": "execute_result"
    }
   ],
   "source": [
    "#  Get the indices of cities that have humidity over 100%\n",
    "Humidity100_index = weather_checkDF.index[weather_checkDF[\"Humidity\"] > 100]\n",
    "Humidity100_index"
   ]
  },
  {
   "cell_type": "code",
   "execution_count": 73,
   "metadata": {},
   "outputs": [
    {
     "data": {
      "text/html": [
       "<div>\n",
       "<style scoped>\n",
       "    .dataframe tbody tr th:only-of-type {\n",
       "        vertical-align: middle;\n",
       "    }\n",
       "\n",
       "    .dataframe tbody tr th {\n",
       "        vertical-align: top;\n",
       "    }\n",
       "\n",
       "    .dataframe thead th {\n",
       "        text-align: right;\n",
       "    }\n",
       "</style>\n",
       "<table border=\"1\" class=\"dataframe\">\n",
       "  <thead>\n",
       "    <tr style=\"text-align: right;\">\n",
       "      <th></th>\n",
       "      <th>City</th>\n",
       "      <th>Lat</th>\n",
       "      <th>Lng</th>\n",
       "      <th>Max Temp</th>\n",
       "      <th>Humidity</th>\n",
       "      <th>Cloudiness</th>\n",
       "      <th>Wind Speed</th>\n",
       "      <th>Country</th>\n",
       "      <th>Date</th>\n",
       "    </tr>\n",
       "  </thead>\n",
       "  <tbody>\n",
       "    <tr>\n",
       "      <th>1</th>\n",
       "      <td>rikitea</td>\n",
       "      <td>-23.1203</td>\n",
       "      <td>-134.9692</td>\n",
       "      <td>72.68</td>\n",
       "      <td>69</td>\n",
       "      <td>9</td>\n",
       "      <td>8.97</td>\n",
       "      <td>PF</td>\n",
       "      <td>1658554671</td>\n",
       "    </tr>\n",
       "    <tr>\n",
       "      <th>2</th>\n",
       "      <td>hithadhoo</td>\n",
       "      <td>-0.6000</td>\n",
       "      <td>73.0833</td>\n",
       "      <td>82.40</td>\n",
       "      <td>72</td>\n",
       "      <td>99</td>\n",
       "      <td>5.84</td>\n",
       "      <td>MV</td>\n",
       "      <td>1658554671</td>\n",
       "    </tr>\n",
       "    <tr>\n",
       "      <th>3</th>\n",
       "      <td>qasigiannguit</td>\n",
       "      <td>68.8193</td>\n",
       "      <td>-51.1922</td>\n",
       "      <td>46.65</td>\n",
       "      <td>97</td>\n",
       "      <td>100</td>\n",
       "      <td>3.94</td>\n",
       "      <td>GL</td>\n",
       "      <td>1658554671</td>\n",
       "    </tr>\n",
       "    <tr>\n",
       "      <th>4</th>\n",
       "      <td>hobart</td>\n",
       "      <td>-42.8794</td>\n",
       "      <td>147.3294</td>\n",
       "      <td>58.26</td>\n",
       "      <td>68</td>\n",
       "      <td>100</td>\n",
       "      <td>4.00</td>\n",
       "      <td>AU</td>\n",
       "      <td>1658554672</td>\n",
       "    </tr>\n",
       "    <tr>\n",
       "      <th>5</th>\n",
       "      <td>cape town</td>\n",
       "      <td>-33.9258</td>\n",
       "      <td>18.4232</td>\n",
       "      <td>54.10</td>\n",
       "      <td>89</td>\n",
       "      <td>20</td>\n",
       "      <td>5.01</td>\n",
       "      <td>ZA</td>\n",
       "      <td>1658554546</td>\n",
       "    </tr>\n",
       "  </tbody>\n",
       "</table>\n",
       "</div>"
      ],
      "text/plain": [
       "            City      Lat       Lng  Max Temp  Humidity  Cloudiness  \\\n",
       "1        rikitea -23.1203 -134.9692     72.68        69           9   \n",
       "2      hithadhoo  -0.6000   73.0833     82.40        72          99   \n",
       "3  qasigiannguit  68.8193  -51.1922     46.65        97         100   \n",
       "4         hobart -42.8794  147.3294     58.26        68         100   \n",
       "5      cape town -33.9258   18.4232     54.10        89          20   \n",
       "\n",
       "   Wind Speed Country        Date  \n",
       "1        8.97      PF  1658554671  \n",
       "2        5.84      MV  1658554671  \n",
       "3        3.94      GL  1658554671  \n",
       "4        4.00      AU  1658554672  \n",
       "5        5.01      ZA  1658554546  "
      ]
     },
     "execution_count": 73,
     "metadata": {},
     "output_type": "execute_result"
    }
   ],
   "source": [
    "# Make a new DataFrame equal to the city data to drop all humidity outliers by index.\n",
    "# Passing \"inplace=False\" will make a copy of the city_data DataFrame, which we call \"clean_city_data\".\n",
    "clean_city_data = weather_checkDF.drop(Humidity100_index, inplace=False )\n",
    "clean_city_data.head(5)"
   ]
  },
  {
   "cell_type": "code",
   "execution_count": null,
   "metadata": {},
   "outputs": [],
   "source": [
    "\n"
   ]
  },
  {
   "cell_type": "markdown",
   "metadata": {},
   "source": [
    "## Plotting the Data\n",
    "* Use proper labeling of the plots using plot titles (including date of analysis) and axes labels.\n",
    "* Save the plotted figures as .pngs."
   ]
  },
  {
   "cell_type": "markdown",
   "metadata": {},
   "source": [
    "## Latitude vs. Temperature Plot"
   ]
  },
  {
   "cell_type": "code",
   "execution_count": 88,
   "metadata": {},
   "outputs": [
    {
     "data": {
      "image/png": "[encoded data removed]",
      "text/plain": [
       "<Figure size 432x288 with 1 Axes>"
      ]
     },
     "metadata": {
      "needs_background": "light"
     },
     "output_type": "display_data"
    }
   ],
   "source": [
    "# Scatter plat of Latitude vs. Temperature\n",
    "plt.scatter(clean_city_data[\"Lat\"],clean_city_data[\"Max Temp\"], facecolor='steelblue', edgecolor='black')\n",
    "\n",
    "#today's date\n",
    "today = pd.to_datetime(\"today\").strftime(\"%m/%d/%Y\")\n",
    "\n",
    "plt.title(f\"City Latitude vs. Max Temperatur ({today})\")\n",
    "plt.xlabel('Latitude')\n",
    "plt.ylabel('Max Temperature (F)')\n",
    "plt.grid(which='major', linestyle='-')\n",
    "\n",
    "#saving the scatter plot to a .png file\n",
    "plt.savefig(\"output_data/LatVsTemp_scatter_plot.png\")\n",
    "plt.show()"
   ]
  },
  {
   "cell_type": "markdown",
   "metadata": {},
   "source": [
    "## Latitude vs. Humidity Plot"
   ]
  },
  {
   "cell_type": "code",
   "execution_count": 87,
   "metadata": {},
   "outputs": [
    {
     "data": {
      "image/png": "[encoded data removed]",
      "text/plain": [
       "<Figure size 432x288 with 1 Axes>"
      ]
     },
     "metadata": {
      "needs_background": "light"
     },
     "output_type": "display_data"
    }
   ],
   "source": [
    "# Scatter plat of Latitude vs. Humidity\n",
    "plt.scatter(clean_city_data[\"Lat\"],clean_city_data[\"Humidity\"], facecolor='steelblue', edgecolor='black')\n",
    "\n",
    "#today's date\n",
    "today = pd.to_datetime(\"today\").strftime(\"%m/%d/%Y\")\n",
    "\n",
    "plt.title(f\"City Latitude vs. Humidity ({today})\")\n",
    "plt.xlabel('Latitude')\n",
    "plt.ylabel('Humidity (%)')\n",
    "plt.grid(which='major', linestyle='-')\n",
    "\n",
    "#saving the scatter plot to a .png file\n",
    "plt.savefig(\"output_data/LatVsHumidity_scatter_plot.png\")\n",
    "plt.show()"
   ]
  },
  {
   "cell_type": "markdown",
   "metadata": {},
   "source": [
    "## Latitude vs. Cloudiness Plot"
   ]
  },
  {
   "cell_type": "code",
   "execution_count": 90,
   "metadata": {},
   "outputs": [
    {
     "data": {
      "image/png": "[encoded data removed]",
      "text/plain": [
       "<Figure size 432x288 with 1 Axes>"
      ]
     },
     "metadata": {
      "needs_background": "light"
     },
     "output_type": "display_data"
    }
   ],
   "source": [
    "# Scatter plat of Latitude vs. Cloudiness\n",
    "plt.scatter(clean_city_data[\"Lat\"],clean_city_data[\"Cloudiness\"], facecolor='steelblue', edgecolor='black')\n",
    "\n",
    "#today's date\n",
    "today = pd.to_datetime(\"today\").strftime(\"%m/%d/%Y\")\n",
    "\n",
    "plt.title(f\"City Latitude vs. Cloudiness ({today})\")\n",
    "plt.xlabel('Latitude')\n",
    "plt.ylabel('Cloudiness (%)')\n",
    "plt.grid(which='major', linestyle='-')\n",
    "\n",
    "#saving the scatter plot to a .png file\n",
    "plt.savefig(\"output_data/LatVsCloudiness_scatter_plot.png\")\n",
    "plt.show()"
   ]
  },
  {
   "cell_type": "markdown",
   "metadata": {},
   "source": [
    "## Latitude vs. Wind Speed Plot"
   ]
  },
  {
   "cell_type": "code",
   "execution_count": 91,
   "metadata": {},
   "outputs": [
    {
     "data": {
      "image/png": "[encoded data removed]",
      "text/plain": [
       "<Figure size 432x288 with 1 Axes>"
      ]
     },
     "metadata": {
      "needs_background": "light"
     },
     "output_type": "display_data"
    }
   ],
   "source": [
    "# Scatter plat of Latitude vs. Wind Speed\n",
    "plt.scatter(clean_city_data[\"Lat\"],clean_city_data[\"Wind Speed\"], facecolor='steelblue', edgecolor='black')\n",
    "\n",
    "#today's date\n",
    "today = pd.to_datetime(\"today\").strftime(\"%m/%d/%Y\")\n",
    "\n",
    "plt.title(f\"City Latitude vs. Wind Speed ({today})\")\n",
    "plt.xlabel('Latitude')\n",
    "plt.ylabel('Wind Speed (mph)')\n",
    "plt.grid(which='major', linestyle='-')\n",
    "\n",
    "#saving the scatter plot to a .png file\n",
    "plt.savefig(\"output_data/LatVsWindSpeed_scatter_plot.png\")\n",
    "plt.show()"
   ]
  },
  {
   "cell_type": "markdown",
   "metadata": {},
   "source": [
    "## Linear Regression"
   ]
  },
  {
   "cell_type": "code",
   "execution_count": 101,
   "metadata": {},
   "outputs": [
    {
     "data": {
      "text/plain": [
       "City           object\n",
       "Lat           float64\n",
       "Lng           float64\n",
       "Max Temp      float64\n",
       "Humidity        int64\n",
       "Cloudiness      int64\n",
       "Wind Speed    float64\n",
       "Country        object\n",
       "Date            int64\n",
       "dtype: object"
      ]
     },
     "execution_count": 101,
     "metadata": {},
     "output_type": "execute_result"
    }
   ],
   "source": [
    "#create DataFrames for Northern and Southern Hemisphere\n",
    "Northern_Hemisphere = clean_city_data.loc[clean_city_data[\"Lat\"] >= 0]\n",
    "Southern_Hemisphere = clean_city_data.loc[clean_city_data[\"Lat\"] < 0]\n",
    "Northern_Hemisphere.dtypes"
   ]
  },
  {
   "cell_type": "markdown",
   "metadata": {},
   "source": [
    "####  Northern Hemisphere - Max Temp vs. Latitude Linear Regression"
   ]
  },
  {
   "cell_type": "code",
   "execution_count": 111,
   "metadata": {},
   "outputs": [
    {
     "name": "stdout",
     "output_type": "stream",
     "text": [
      "The r-value is: -0.7401767197267934\n",
      "y = -0.39x + 89.2\n"
     ]
    },
    {
     "data": {
      "image/png": "[encoded data removed]",
      "text/plain": [
       "<Figure size 432x288 with 1 Axes>"
      ]
     },
     "metadata": {
      "needs_background": "light"
     },
     "output_type": "display_data"
    }
   ],
   "source": [
    "x_values = Northern_Hemisphere[\"Lat\"]\n",
    "y_values = Northern_Hemisphere[\"Max Temp\"]\n",
    "\n",
    "#Calculate r-value\n",
    "correlation = st.pearsonr(x_values,y_values)\n",
    "print(f\"The r-value is: {correlation[0]}\")\n",
    "\n",
    "# Add the linear regression equation and line to plot\n",
    "\n",
    "(slope, intercept, rvalue, pvalue, stderr) = st.linregress(x_values, y_values)\n",
    "regress_values = x_values * slope + intercept\n",
    "line_eq = \"y = \" + str(round(slope,2)) + \"x + \" + str(round(intercept,2))\n",
    "print(line_eq)\n",
    "plt.scatter(x_values, y_values)\n",
    "plt.plot(x_values,regress_values,\"r-\")\n",
    "plt.annotate(line_eq,(10,50),fontsize=15,color=\"red\")\n",
    "plt.title(\"Northern Hemisphere - Latitude Vs. Max Temp Linear Regression\")\n",
    "plt.xlabel('Latitude')\n",
    "plt.ylabel('Max Temp')\n",
    "\n",
    "plt.savefig(\"output_data/LatVsMaxTemp_regression_plot.png\")\n",
    "plt.tight_layout()\n",
    "plt.show()"
   ]
  },
  {
   "cell_type": "code",
   "execution_count": null,
   "metadata": {},
   "outputs": [],
   "source": []
  },
  {
   "cell_type": "code",
   "execution_count": 25,
   "metadata": {},
   "outputs": [
    {
     "name": "stdout",
     "output_type": "stream",
     "text": [
      "The r-value is: 0.46937863826630627\n"
     ]
    },
    {
     "data": {
      "image/png": "[encoded data removed]",
      "text/plain": [
       "<Figure size 432x288 with 1 Axes>"
      ]
     },
     "metadata": {
      "needs_background": "light"
     },
     "output_type": "display_data"
    }
   ],
   "source": []
  },
  {
   "cell_type": "markdown",
   "metadata": {},
   "source": [
    "####  Southern Hemisphere - Max Temp vs. Latitude Linear Regression"
   ]
  },
  {
   "cell_type": "code",
   "execution_count": 26,
   "metadata": {},
   "outputs": [
    {
     "name": "stdout",
     "output_type": "stream",
     "text": [
      "The r-value is: 0.6082708688906918\n"
     ]
    },
    {
     "data": {
      "image/png": "[encoded data removed]",
      "text/plain": [
       "<Figure size 432x288 with 1 Axes>"
      ]
     },
     "metadata": {
      "needs_background": "light"
     },
     "output_type": "display_data"
    }
   ],
   "source": []
  },
  {
   "cell_type": "markdown",
   "metadata": {},
   "source": [
    "####  Northern Hemisphere - Humidity (%) vs. Latitude Linear Regression"
   ]
  },
  {
   "cell_type": "code",
   "execution_count": 27,
   "metadata": {},
   "outputs": [
    {
     "name": "stdout",
     "output_type": "stream",
     "text": [
      "The r-value is: 0.000543987878808455\n"
     ]
    },
    {
     "data": {
      "image/png": "[encoded data removed]",
      "text/plain": [
       "<Figure size 432x288 with 1 Axes>"
      ]
     },
     "metadata": {
      "needs_background": "light"
     },
     "output_type": "display_data"
    }
   ],
   "source": []
  },
  {
   "cell_type": "markdown",
   "metadata": {},
   "source": [
    "####  Southern Hemisphere - Humidity (%) vs. Latitude Linear Regression"
   ]
  },
  {
   "cell_type": "code",
   "execution_count": 28,
   "metadata": {},
   "outputs": [
    {
     "name": "stdout",
     "output_type": "stream",
     "text": [
      "The r-value is: 0.014985174297345524\n"
     ]
    },
    {
     "data": {
      "image/png": "[encoded data removed]",
      "text/plain": [
       "<Figure size 432x288 with 1 Axes>"
      ]
     },
     "metadata": {
      "needs_background": "light"
     },
     "output_type": "display_data"
    }
   ],
   "source": []
  },
  {
   "cell_type": "markdown",
   "metadata": {},
   "source": [
    "####  Northern Hemisphere - Cloudiness (%) vs. Latitude Linear Regression"
   ]
  },
  {
   "cell_type": "code",
   "execution_count": 29,
   "metadata": {},
   "outputs": [
    {
     "name": "stdout",
     "output_type": "stream",
     "text": [
      "The r-value is: 0.0020898727664228514\n"
     ]
    },
    {
     "data": {
      "image/png": "[encoded data removed]",
      "text/plain": [
       "<Figure size 432x288 with 1 Axes>"
      ]
     },
     "metadata": {
      "needs_background": "light"
     },
     "output_type": "display_data"
    }
   ],
   "source": []
  },
  {
   "cell_type": "markdown",
   "metadata": {},
   "source": [
    "####  Southern Hemisphere - Cloudiness (%) vs. Latitude Linear Regression"
   ]
  },
  {
   "cell_type": "code",
   "execution_count": 30,
   "metadata": {},
   "outputs": [
    {
     "name": "stdout",
     "output_type": "stream",
     "text": [
      "The r-value is: 0.0035263772085582894\n"
     ]
    },
    {
     "data": {
      "image/png": "[encoded data removed]",
      "text/plain": [
       "<Figure size 432x288 with 1 Axes>"
      ]
     },
     "metadata": {
      "needs_background": "light"
     },
     "output_type": "display_data"
    }
   ],
   "source": []
  },
  {
   "cell_type": "markdown",
   "metadata": {},
   "source": [
    "####  Northern Hemisphere - Wind Speed (mph) vs. Latitude Linear Regression"
   ]
  },
  {
   "cell_type": "code",
   "execution_count": 31,
   "metadata": {},
   "outputs": [
    {
     "name": "stdout",
     "output_type": "stream",
     "text": [
      "The r-value is: 0.04019723576144484\n"
     ]
    },
    {
     "data": {
      "image/png": "[encoded data removed]",
      "text/plain": [
       "<Figure size 432x288 with 1 Axes>"
      ]
     },
     "metadata": {
      "needs_background": "light"
     },
     "output_type": "display_data"
    }
   ],
   "source": []
  },
  {
   "cell_type": "markdown",
   "metadata": {},
   "source": [
    "####  Southern Hemisphere - Wind Speed (mph) vs. Latitude Linear Regression"
   ]
  },
  {
   "cell_type": "code",
   "execution_count": 32,
   "metadata": {},
   "outputs": [
    {
     "name": "stdout",
     "output_type": "stream",
     "text": [
      "The r-value is: 0.017128274759839232\n"
     ]
    },
    {
     "data": {
      "image/png": "[encoded data removed]",
      "text/plain": [
       "<Figure size 432x288 with 1 Axes>"
      ]
     },
     "metadata": {
      "needs_background": "light"
     },
     "output_type": "display_data"
    }
   ],
   "source": []
  },
  {
   "cell_type": "code",
   "execution_count": null,
   "metadata": {},
   "outputs": [],
   "source": []
  }
 ],
 "metadata": {
  "anaconda-cloud": {},
  "kernel_info": {
   "name": "python3"
  },
  "kernelspec": {
   "display_name": "Python 3 (ipykernel)",
   "language": "python",
   "name": "python3"
  },
  "language_info": {
   "codemirror_mode": {
    "name": "ipython",
    "version": 3
   },
   "file_extension": ".py",
   "mimetype": "text/x-python",
   "name": "python",
   "nbconvert_exporter": "python",
   "pygments_lexer": "ipython3",
   "version": "3.9.12"
  },
  "latex_envs": {
   "LaTeX_envs_menu_present": true,
   "autoclose": false,
   "autocomplete": true,
   "bibliofile": "biblio.bib",
   "cite_by": "apalike",
   "current_citInitial": 1,
   "eqLabelWithNumbers": true,
   "eqNumInitial": 1,
   "hotkeys": {
    "equation": "Ctrl-E",
    "itemize": "Ctrl-I"
   },
   "labels_anchors": false,
   "latex_user_defs": false,
   "report_style_numbering": false,
   "user_envs_cfg": false
  },
  "nteract": {
   "version": "0.12.3"
  }
 },
 "nbformat": 4,
 "nbformat_minor": 2
}
